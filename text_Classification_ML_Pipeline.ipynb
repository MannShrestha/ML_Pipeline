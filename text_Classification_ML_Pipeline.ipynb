{
 "cells": [
  {
   "cell_type": "markdown",
   "id": "f092f64a",
   "metadata": {},
   "source": [
    "# Importing Libraries"
   ]
  },
  {
   "cell_type": "code",
   "execution_count": 1,
   "id": "bd59feac",
   "metadata": {},
   "outputs": [],
   "source": [
    "import numpy as np\n",
    "import pandas as pd\n",
    "import matplotlib.pyplot as plt\n",
    "import seaborn as sns\n",
    "plt.style.use('seaborn-deep')\n",
    "%matplotlib inline\n",
    "\n",
    "import nltk\n",
    "import string\n",
    "from nltk.corpus import stopwords\n",
    "\n",
    "from sklearn.feature_extraction.text import CountVectorizer\n",
    "from sklearn.feature_extraction.text import TfidfTransformer\n",
    "from sklearn.model_selection import train_test_split\n",
    "from sklearn.pipeline import Pipeline\n",
    "\n",
    "from sklearn import metrics\n",
    "from sklearn.metrics import classification_report, confusion_matrix\n",
    "from sklearn.metrics import accuracy_score\n",
    "\n",
    "from sklearn.svm import SVC\n",
    "from sklearn.ensemble import RandomForestClassifier\n",
    "from sklearn.naive_bayes import GaussianNB"
   ]
  },
  {
   "cell_type": "markdown",
   "id": "510b1400",
   "metadata": {},
   "source": [
    "# Importing Data"
   ]
  },
  {
   "cell_type": "code",
   "execution_count": 2,
   "id": "a9b19b48",
   "metadata": {},
   "outputs": [
    {
     "data": {
      "text/html": [
       "<div>\n",
       "<style scoped>\n",
       "    .dataframe tbody tr th:only-of-type {\n",
       "        vertical-align: middle;\n",
       "    }\n",
       "\n",
       "    .dataframe tbody tr th {\n",
       "        vertical-align: top;\n",
       "    }\n",
       "\n",
       "    .dataframe thead th {\n",
       "        text-align: right;\n",
       "    }\n",
       "</style>\n",
       "<table border=\"1\" class=\"dataframe\">\n",
       "  <thead>\n",
       "    <tr style=\"text-align: right;\">\n",
       "      <th></th>\n",
       "      <th>category</th>\n",
       "      <th>text</th>\n",
       "    </tr>\n",
       "  </thead>\n",
       "  <tbody>\n",
       "    <tr>\n",
       "      <th>0</th>\n",
       "      <td>tech</td>\n",
       "      <td>tv future in the hands of viewers with home th...</td>\n",
       "    </tr>\n",
       "    <tr>\n",
       "      <th>1</th>\n",
       "      <td>business</td>\n",
       "      <td>worldcom boss  left books alone  former worldc...</td>\n",
       "    </tr>\n",
       "    <tr>\n",
       "      <th>2</th>\n",
       "      <td>sport</td>\n",
       "      <td>tigers wary of farrell  gamble  leicester say ...</td>\n",
       "    </tr>\n",
       "    <tr>\n",
       "      <th>3</th>\n",
       "      <td>sport</td>\n",
       "      <td>yeading face newcastle in fa cup premiership s...</td>\n",
       "    </tr>\n",
       "    <tr>\n",
       "      <th>4</th>\n",
       "      <td>entertainment</td>\n",
       "      <td>ocean s twelve raids box office ocean s twelve...</td>\n",
       "    </tr>\n",
       "  </tbody>\n",
       "</table>\n",
       "</div>"
      ],
      "text/plain": [
       "        category                                               text\n",
       "0           tech  tv future in the hands of viewers with home th...\n",
       "1       business  worldcom boss  left books alone  former worldc...\n",
       "2          sport  tigers wary of farrell  gamble  leicester say ...\n",
       "3          sport  yeading face newcastle in fa cup premiership s...\n",
       "4  entertainment  ocean s twelve raids box office ocean s twelve..."
      ]
     },
     "execution_count": 2,
     "metadata": {},
     "output_type": "execute_result"
    }
   ],
   "source": [
    "df = pd.read_csv('bbc-text.csv')\n",
    "df.head()"
   ]
  },
  {
   "cell_type": "code",
   "execution_count": 3,
   "id": "68d5e924",
   "metadata": {},
   "outputs": [
    {
     "name": "stdout",
     "output_type": "stream",
     "text": [
      "<class 'pandas.core.frame.DataFrame'>\n",
      "RangeIndex: 2225 entries, 0 to 2224\n",
      "Data columns (total 2 columns):\n",
      " #   Column    Non-Null Count  Dtype \n",
      "---  ------    --------------  ----- \n",
      " 0   category  2225 non-null   object\n",
      " 1   text      2225 non-null   object\n",
      "dtypes: object(2)\n",
      "memory usage: 34.9+ KB\n"
     ]
    }
   ],
   "source": [
    "df.info()"
   ]
  },
  {
   "cell_type": "code",
   "execution_count": 4,
   "id": "233df3ab",
   "metadata": {
    "scrolled": true
   },
   "outputs": [
    {
     "data": {
      "text/html": [
       "<div>\n",
       "<style scoped>\n",
       "    .dataframe tbody tr th:only-of-type {\n",
       "        vertical-align: middle;\n",
       "    }\n",
       "\n",
       "    .dataframe tbody tr th {\n",
       "        vertical-align: top;\n",
       "    }\n",
       "\n",
       "    .dataframe thead th {\n",
       "        text-align: right;\n",
       "    }\n",
       "</style>\n",
       "<table border=\"1\" class=\"dataframe\">\n",
       "  <thead>\n",
       "    <tr style=\"text-align: right;\">\n",
       "      <th></th>\n",
       "      <th>category</th>\n",
       "      <th>text</th>\n",
       "    </tr>\n",
       "  </thead>\n",
       "  <tbody>\n",
       "    <tr>\n",
       "      <th>count</th>\n",
       "      <td>2225</td>\n",
       "      <td>2225</td>\n",
       "    </tr>\n",
       "    <tr>\n",
       "      <th>unique</th>\n",
       "      <td>5</td>\n",
       "      <td>2126</td>\n",
       "    </tr>\n",
       "    <tr>\n",
       "      <th>top</th>\n",
       "      <td>sport</td>\n",
       "      <td>kennedy questions trust of blair lib dem leade...</td>\n",
       "    </tr>\n",
       "    <tr>\n",
       "      <th>freq</th>\n",
       "      <td>511</td>\n",
       "      <td>2</td>\n",
       "    </tr>\n",
       "  </tbody>\n",
       "</table>\n",
       "</div>"
      ],
      "text/plain": [
       "       category                                               text\n",
       "count      2225                                               2225\n",
       "unique        5                                               2126\n",
       "top       sport  kennedy questions trust of blair lib dem leade...\n",
       "freq        511                                                  2"
      ]
     },
     "execution_count": 4,
     "metadata": {},
     "output_type": "execute_result"
    }
   ],
   "source": [
    "df.describe()"
   ]
  },
  {
   "cell_type": "markdown",
   "id": "7630c0cf",
   "metadata": {},
   "source": [
    "# Exploratory Data Analysis"
   ]
  },
  {
   "cell_type": "code",
   "execution_count": 5,
   "id": "219f3990",
   "metadata": {
    "scrolled": true
   },
   "outputs": [
    {
     "data": {
      "text/html": [
       "<div>\n",
       "<style scoped>\n",
       "    .dataframe tbody tr th:only-of-type {\n",
       "        vertical-align: middle;\n",
       "    }\n",
       "\n",
       "    .dataframe tbody tr th {\n",
       "        vertical-align: top;\n",
       "    }\n",
       "\n",
       "    .dataframe thead tr th {\n",
       "        text-align: left;\n",
       "    }\n",
       "\n",
       "    .dataframe thead tr:last-of-type th {\n",
       "        text-align: right;\n",
       "    }\n",
       "</style>\n",
       "<table border=\"1\" class=\"dataframe\">\n",
       "  <thead>\n",
       "    <tr>\n",
       "      <th></th>\n",
       "      <th colspan=\"4\" halign=\"left\">text</th>\n",
       "    </tr>\n",
       "    <tr>\n",
       "      <th></th>\n",
       "      <th>count</th>\n",
       "      <th>unique</th>\n",
       "      <th>top</th>\n",
       "      <th>freq</th>\n",
       "    </tr>\n",
       "    <tr>\n",
       "      <th>category</th>\n",
       "      <th></th>\n",
       "      <th></th>\n",
       "      <th></th>\n",
       "      <th></th>\n",
       "    </tr>\n",
       "  </thead>\n",
       "  <tbody>\n",
       "    <tr>\n",
       "      <th>business</th>\n",
       "      <td>510</td>\n",
       "      <td>503</td>\n",
       "      <td>economy  strong  in election year uk businesse...</td>\n",
       "      <td>2</td>\n",
       "    </tr>\n",
       "    <tr>\n",
       "      <th>entertainment</th>\n",
       "      <td>386</td>\n",
       "      <td>369</td>\n",
       "      <td>ocean s twelve raids box office ocean s twelve...</td>\n",
       "      <td>2</td>\n",
       "    </tr>\n",
       "    <tr>\n",
       "      <th>politics</th>\n",
       "      <td>417</td>\n",
       "      <td>403</td>\n",
       "      <td>super union  merger plan touted two of britain...</td>\n",
       "      <td>2</td>\n",
       "    </tr>\n",
       "    <tr>\n",
       "      <th>sport</th>\n",
       "      <td>511</td>\n",
       "      <td>504</td>\n",
       "      <td>hantuchova in dubai last eight daniela hantuch...</td>\n",
       "      <td>2</td>\n",
       "    </tr>\n",
       "    <tr>\n",
       "      <th>tech</th>\n",
       "      <td>401</td>\n",
       "      <td>347</td>\n",
       "      <td>california sets fines for spyware the makers o...</td>\n",
       "      <td>2</td>\n",
       "    </tr>\n",
       "  </tbody>\n",
       "</table>\n",
       "</div>"
      ],
      "text/plain": [
       "               text                                                            \\\n",
       "              count unique                                                top   \n",
       "category                                                                        \n",
       "business        510    503  economy  strong  in election year uk businesse...   \n",
       "entertainment   386    369  ocean s twelve raids box office ocean s twelve...   \n",
       "politics        417    403  super union  merger plan touted two of britain...   \n",
       "sport           511    504  hantuchova in dubai last eight daniela hantuch...   \n",
       "tech            401    347  california sets fines for spyware the makers o...   \n",
       "\n",
       "                    \n",
       "              freq  \n",
       "category            \n",
       "business         2  \n",
       "entertainment    2  \n",
       "politics         2  \n",
       "sport            2  \n",
       "tech             2  "
      ]
     },
     "execution_count": 5,
     "metadata": {},
     "output_type": "execute_result"
    }
   ],
   "source": [
    "df.groupby('category').describe()"
   ]
  },
  {
   "cell_type": "markdown",
   "id": "0e7b2447",
   "metadata": {},
   "source": [
    "#### Let's make a new column to detect how long the text messages are"
   ]
  },
  {
   "cell_type": "code",
   "execution_count": 6,
   "id": "a9db711f",
   "metadata": {},
   "outputs": [
    {
     "data": {
      "text/html": [
       "<div>\n",
       "<style scoped>\n",
       "    .dataframe tbody tr th:only-of-type {\n",
       "        vertical-align: middle;\n",
       "    }\n",
       "\n",
       "    .dataframe tbody tr th {\n",
       "        vertical-align: top;\n",
       "    }\n",
       "\n",
       "    .dataframe thead th {\n",
       "        text-align: right;\n",
       "    }\n",
       "</style>\n",
       "<table border=\"1\" class=\"dataframe\">\n",
       "  <thead>\n",
       "    <tr style=\"text-align: right;\">\n",
       "      <th></th>\n",
       "      <th>category</th>\n",
       "      <th>text</th>\n",
       "      <th>Length</th>\n",
       "    </tr>\n",
       "  </thead>\n",
       "  <tbody>\n",
       "    <tr>\n",
       "      <th>0</th>\n",
       "      <td>tech</td>\n",
       "      <td>tv future in the hands of viewers with home th...</td>\n",
       "      <td>4333</td>\n",
       "    </tr>\n",
       "    <tr>\n",
       "      <th>1</th>\n",
       "      <td>business</td>\n",
       "      <td>worldcom boss  left books alone  former worldc...</td>\n",
       "      <td>1842</td>\n",
       "    </tr>\n",
       "    <tr>\n",
       "      <th>2</th>\n",
       "      <td>sport</td>\n",
       "      <td>tigers wary of farrell  gamble  leicester say ...</td>\n",
       "      <td>1342</td>\n",
       "    </tr>\n",
       "    <tr>\n",
       "      <th>3</th>\n",
       "      <td>sport</td>\n",
       "      <td>yeading face newcastle in fa cup premiership s...</td>\n",
       "      <td>2176</td>\n",
       "    </tr>\n",
       "    <tr>\n",
       "      <th>4</th>\n",
       "      <td>entertainment</td>\n",
       "      <td>ocean s twelve raids box office ocean s twelve...</td>\n",
       "      <td>1579</td>\n",
       "    </tr>\n",
       "  </tbody>\n",
       "</table>\n",
       "</div>"
      ],
      "text/plain": [
       "        category                                               text  Length\n",
       "0           tech  tv future in the hands of viewers with home th...    4333\n",
       "1       business  worldcom boss  left books alone  former worldc...    1842\n",
       "2          sport  tigers wary of farrell  gamble  leicester say ...    1342\n",
       "3          sport  yeading face newcastle in fa cup premiership s...    2176\n",
       "4  entertainment  ocean s twelve raids box office ocean s twelve...    1579"
      ]
     },
     "execution_count": 6,
     "metadata": {},
     "output_type": "execute_result"
    }
   ],
   "source": [
    "df['Length'] = df['text'].apply(len)\n",
    "df.head()"
   ]
  },
  {
   "cell_type": "code",
   "execution_count": 11,
   "id": "26d3c41d",
   "metadata": {},
   "outputs": [
    {
     "data": {
      "text/plain": [
       "<AxesSubplot:ylabel='Frequency'>"
      ]
     },
     "execution_count": 11,
     "metadata": {},
     "output_type": "execute_result"
    },
    {
     "data": {
      "image/png": "[encoded data removed]",
      "text/plain": [
       "<Figure size 1000x600 with 1 Axes>"
      ]
     },
     "metadata": {},
     "output_type": "display_data"
    }
   ],
   "source": [
    "plt.figure(figsize=(10,6))\n",
    "df['Length'].plot.hist(bins = 150)"
   ]
  },
  {
   "cell_type": "code",
   "execution_count": 12,
   "id": "94e4a84d",
   "metadata": {},
   "outputs": [
    {
     "data": {
      "text/plain": [
       "count     2225.00000\n",
       "mean      2262.93618\n",
       "std       1364.10253\n",
       "min        501.00000\n",
       "25%       1446.00000\n",
       "50%       1965.00000\n",
       "75%       2802.00000\n",
       "max      25483.00000\n",
       "Name: Length, dtype: float64"
      ]
     },
     "execution_count": 12,
     "metadata": {},
     "output_type": "execute_result"
    }
   ],
   "source": [
    "df['Length'].describe()"
   ]
  },
  {
   "cell_type": "markdown",
   "id": "8836cfab",
   "metadata": {},
   "source": [
    "### One of the text has 501 character, let's use masking to find this message"
   ]
  },
  {
   "cell_type": "code",
   "execution_count": 13,
   "id": "301825f8",
   "metadata": {
    "scrolled": true
   },
   "outputs": [
    {
     "data": {
      "text/html": [
       "<div>\n",
       "<style scoped>\n",
       "    .dataframe tbody tr th:only-of-type {\n",
       "        vertical-align: middle;\n",
       "    }\n",
       "\n",
       "    .dataframe tbody tr th {\n",
       "        vertical-align: top;\n",
       "    }\n",
       "\n",
       "    .dataframe thead th {\n",
       "        text-align: right;\n",
       "    }\n",
       "</style>\n",
       "<table border=\"1\" class=\"dataframe\">\n",
       "  <thead>\n",
       "    <tr style=\"text-align: right;\">\n",
       "      <th></th>\n",
       "      <th>category</th>\n",
       "      <th>text</th>\n",
       "      <th>Length</th>\n",
       "    </tr>\n",
       "  </thead>\n",
       "  <tbody>\n",
       "    <tr>\n",
       "      <th>323</th>\n",
       "      <td>politics</td>\n",
       "      <td>blunkett hints at election call ex-home secret...</td>\n",
       "      <td>501</td>\n",
       "    </tr>\n",
       "  </tbody>\n",
       "</table>\n",
       "</div>"
      ],
      "text/plain": [
       "     category                                               text  Length\n",
       "323  politics  blunkett hints at election call ex-home secret...     501"
      ]
     },
     "execution_count": 13,
     "metadata": {},
     "output_type": "execute_result"
    }
   ],
   "source": [
    "df[df['Length'] == 501]"
   ]
  },
  {
   "cell_type": "markdown",
   "id": "5d42cead",
   "metadata": {},
   "source": [
    "# Text Cleaning\n",
    "\n",
    "Let's clean the text for the messages in our dataset with NLP"
   ]
  },
  {
   "cell_type": "code",
   "execution_count": 14,
   "id": "c404ac75",
   "metadata": {},
   "outputs": [
    {
     "data": {
      "text/plain": [
       "'!\"#$%&\\'()*+,-./:;<=>?@[\\\\]^_`{|}~'"
      ]
     },
     "execution_count": 14,
     "metadata": {},
     "output_type": "execute_result"
    }
   ],
   "source": [
    "string.punctuation"
   ]
  },
  {
   "cell_type": "code",
   "execution_count": 15,
   "id": "137633b2",
   "metadata": {},
   "outputs": [],
   "source": [
    "mess = ['''For me the love should start with attraction.i should feel that I need her every time around me.she should be the first thing which comes in my thoughts.I would start the day and end it with her.she should be there every time I dream.love will be then when my every breath has her name.my life should happen around her.my life will be named to her.I would cry for her.will give all my happiness and take all her sorrows.I will be ready to fight with anyone for her.I will be in love when I will be doing the craziest things for her.love will be when I don't have to proove anyone that my girl is the most beautiful lady on the whole planet.I will always be singing praises for her.love will be when I start up making chicken curry and end up makiing sambar.life will be the most beautiful then.will get every morning and thank god for the day because she is with me.I would like to say a lot..will tell later..''']"
   ]
  },
  {
   "cell_type": "code",
   "execution_count": 16,
   "id": "05d48d24",
   "metadata": {},
   "outputs": [
    {
     "name": "stdout",
     "output_type": "stream",
     "text": [
      "[\"For me the love should start with attraction.i should feel that I need her every time around me.she should be the first thing which comes in my thoughts.I would start the day and end it with her.she should be there every time I dream.love will be then when my every breath has her name.my life should happen around her.my life will be named to her.I would cry for her.will give all my happiness and take all her sorrows.I will be ready to fight with anyone for her.I will be in love when I will be doing the craziest things for her.love will be when I don't have to proove anyone that my girl is the most beautiful lady on the whole planet.I will always be singing praises for her.love will be when I start up making chicken curry and end up makiing sambar.life will be the most beautiful then.will get every morning and thank god for the day because she is with me.I would like to say a lot..will tell later..\"]\n"
     ]
    }
   ],
   "source": [
    "no_punc = [char for char in mess if char not in string.punctuation]\n",
    "print(no_punc)"
   ]
  },
  {
   "cell_type": "code",
   "execution_count": 17,
   "id": "0ec99abc",
   "metadata": {},
   "outputs": [
    {
     "name": "stderr",
     "output_type": "stream",
     "text": [
      "[nltk_data] Downloading package stopwords to\n",
      "[nltk_data]     C:\\Users\\USER\\AppData\\Roaming\\nltk_data...\n",
      "[nltk_data]   Package stopwords is already up-to-date!\n"
     ]
    },
    {
     "data": {
      "text/plain": [
       "['i',\n",
       " 'me',\n",
       " 'my',\n",
       " 'myself',\n",
       " 'we',\n",
       " 'our',\n",
       " 'ours',\n",
       " 'ourselves',\n",
       " 'you',\n",
       " \"you're\",\n",
       " \"you've\",\n",
       " \"you'll\",\n",
       " \"you'd\",\n",
       " 'your',\n",
       " 'yours',\n",
       " 'yourself',\n",
       " 'yourselves',\n",
       " 'he',\n",
       " 'him',\n",
       " 'his',\n",
       " 'himself',\n",
       " 'she',\n",
       " \"she's\",\n",
       " 'her',\n",
       " 'hers',\n",
       " 'herself',\n",
       " 'it',\n",
       " \"it's\",\n",
       " 'its',\n",
       " 'itself',\n",
       " 'they',\n",
       " 'them',\n",
       " 'their',\n",
       " 'theirs',\n",
       " 'themselves',\n",
       " 'what',\n",
       " 'which',\n",
       " 'who',\n",
       " 'whom',\n",
       " 'this',\n",
       " 'that',\n",
       " \"that'll\",\n",
       " 'these',\n",
       " 'those',\n",
       " 'am',\n",
       " 'is',\n",
       " 'are',\n",
       " 'was',\n",
       " 'were',\n",
       " 'be',\n",
       " 'been',\n",
       " 'being',\n",
       " 'have',\n",
       " 'has',\n",
       " 'had',\n",
       " 'having',\n",
       " 'do',\n",
       " 'does',\n",
       " 'did',\n",
       " 'doing',\n",
       " 'a',\n",
       " 'an',\n",
       " 'the',\n",
       " 'and',\n",
       " 'but',\n",
       " 'if',\n",
       " 'or',\n",
       " 'because',\n",
       " 'as',\n",
       " 'until',\n",
       " 'while',\n",
       " 'of',\n",
       " 'at',\n",
       " 'by',\n",
       " 'for',\n",
       " 'with',\n",
       " 'about',\n",
       " 'against',\n",
       " 'between',\n",
       " 'into',\n",
       " 'through',\n",
       " 'during',\n",
       " 'before',\n",
       " 'after',\n",
       " 'above',\n",
       " 'below',\n",
       " 'to',\n",
       " 'from',\n",
       " 'up',\n",
       " 'down',\n",
       " 'in',\n",
       " 'out',\n",
       " 'on',\n",
       " 'off',\n",
       " 'over',\n",
       " 'under',\n",
       " 'again',\n",
       " 'further',\n",
       " 'then',\n",
       " 'once',\n",
       " 'here',\n",
       " 'there',\n",
       " 'when',\n",
       " 'where',\n",
       " 'why',\n",
       " 'how',\n",
       " 'all',\n",
       " 'any',\n",
       " 'both',\n",
       " 'each',\n",
       " 'few',\n",
       " 'more',\n",
       " 'most',\n",
       " 'other',\n",
       " 'some',\n",
       " 'such',\n",
       " 'no',\n",
       " 'nor',\n",
       " 'not',\n",
       " 'only',\n",
       " 'own',\n",
       " 'same',\n",
       " 'so',\n",
       " 'than',\n",
       " 'too',\n",
       " 'very',\n",
       " 's',\n",
       " 't',\n",
       " 'can',\n",
       " 'will',\n",
       " 'just',\n",
       " 'don',\n",
       " \"don't\",\n",
       " 'should',\n",
       " \"should've\",\n",
       " 'now',\n",
       " 'd',\n",
       " 'll',\n",
       " 'm',\n",
       " 'o',\n",
       " 're',\n",
       " 've',\n",
       " 'y',\n",
       " 'ain',\n",
       " 'aren',\n",
       " \"aren't\",\n",
       " 'couldn',\n",
       " \"couldn't\",\n",
       " 'didn',\n",
       " \"didn't\",\n",
       " 'doesn',\n",
       " \"doesn't\",\n",
       " 'hadn',\n",
       " \"hadn't\",\n",
       " 'hasn',\n",
       " \"hasn't\",\n",
       " 'haven',\n",
       " \"haven't\",\n",
       " 'isn',\n",
       " \"isn't\",\n",
       " 'ma',\n",
       " 'mightn',\n",
       " \"mightn't\",\n",
       " 'mustn',\n",
       " \"mustn't\",\n",
       " 'needn',\n",
       " \"needn't\",\n",
       " 'shan',\n",
       " \"shan't\",\n",
       " 'shouldn',\n",
       " \"shouldn't\",\n",
       " 'wasn',\n",
       " \"wasn't\",\n",
       " 'weren',\n",
       " \"weren't\",\n",
       " 'won',\n",
       " \"won't\",\n",
       " 'wouldn',\n",
       " \"wouldn't\"]"
      ]
     },
     "execution_count": 17,
     "metadata": {},
     "output_type": "execute_result"
    }
   ],
   "source": [
    "nltk.download('stopwords')\n",
    "stopwords.words('english')"
   ]
  },
  {
   "cell_type": "code",
   "execution_count": 18,
   "id": "eee5f00c",
   "metadata": {},
   "outputs": [
    {
     "name": "stdout",
     "output_type": "stream",
     "text": [
      "['love', 'start', 'attraction.i', 'should', 'feel', 'need', 'every', 'time', 'around', 'me.she', 'should', 'the', 'first', 'thing', 'comes', 'thoughts.i', 'would', 'start', 'the', 'day', 'end', 'with', 'her.she', 'should', 'be', 'every', 'time', 'i', 'dream.love', 'be', 'my', 'every', 'breath', 'her', 'name.my', 'life', 'should', 'happen', 'around', 'her.my', 'life', 'will', 'be', 'named', 'her.i', 'would', 'cry', 'for', 'her.will', 'give', 'my', 'happiness', 'and', 'take', 'all', 'her', 'sorrows.i', 'will', 'be', 'ready', 'to', 'fight', 'with', 'anyone', 'for', 'her.i', 'will', 'be', 'in', 'love', 'when', 'i', 'will', 'be', 'the', 'craziest', 'things', 'for', 'her.love', 'will', 'be', 'when', 'i', 'to', 'proove', 'anyone', 'that', 'my', 'girl', 'the', 'beautiful', 'lady', 'the', 'whole', 'planet.i', 'will', 'always', 'be', 'singing', 'praises', 'for', 'her.love', 'will', 'be', 'when', 'i', 'start', 'making', 'chicken', 'curry', 'and', 'end', 'up', 'makiing', 'sambar.life', 'will', 'be', 'the', 'most', 'beautiful', 'then.will', 'get', 'every', 'morning', 'and', 'thank', 'god', 'for', 'the', 'day', 'is', 'with', 'me.i', 'would', 'like', 'to', 'say', 'lot..will', 'tell', 'later..']\n"
     ]
    }
   ],
   "source": [
    "## EXample\n",
    "x = mess[0].lower().split()\n",
    "y = stopwords.words('english')\n",
    "\n",
    "for i in y:\n",
    "    if i in x:\n",
    "        x.remove(i)\n",
    "print(x)"
   ]
  },
  {
   "cell_type": "markdown",
   "id": "62008405",
   "metadata": {},
   "source": [
    "#### Let's create the function to remove all punctuation, remove all stopwords and returns a list of the cleaned text "
   ]
  },
  {
   "cell_type": "code",
   "execution_count": 20,
   "id": "46159a57",
   "metadata": {},
   "outputs": [],
   "source": [
    "def text_process(mess):\n",
    "    \"\"\"\n",
    "    Takes in a string of text, then performs the following:\n",
    "    1. Remove all punctuation\n",
    "    2. Remove all stopwords\n",
    "    3. Returns a list of the cleaned text\n",
    "    \"\"\"\n",
    "    \n",
    "    # Check the characters to see if they are in punctuation\n",
    "    no_punc = [char for char in mess if char not in string.punctuation]\n",
    "    \n",
    "    # Join the characters again to form the string\n",
    "    no_punc_join = ''.join(no_punc)\n",
    "    \n",
    "    # Now remove any stopwords\n",
    "    no_punc_join_removed = [word for word in no_punc_join.split() if word.lower() not in stopwords.words('english')]\n",
    "    \n",
    "    return no_punc_join_removed"
   ]
  },
  {
   "cell_type": "markdown",
   "id": "88ad9676",
   "metadata": {},
   "source": [
    "#### Check to make sure its working"
   ]
  },
  {
   "cell_type": "code",
   "execution_count": 21,
   "id": "8f5b313d",
   "metadata": {},
   "outputs": [
    {
     "data": {
      "text/plain": [
       "0       [tv, future, hands, viewers, home, theatre, sy...\n",
       "1       [worldcom, boss, left, books, alone, former, w...\n",
       "2       [tigers, wary, farrell, gamble, leicester, say...\n",
       "3       [yeading, face, newcastle, fa, cup, premiershi...\n",
       "4       [ocean, twelve, raids, box, office, ocean, twe...\n",
       "                              ...                        \n",
       "2220    [cars, pull, us, retail, figures, us, retail, ...\n",
       "2221    [kilroy, unveils, immigration, policy, exchats...\n",
       "2222    [rem, announce, new, glasgow, concert, us, ban...\n",
       "2223    [political, squabbles, snowball, become, commo...\n",
       "2224    [souness, delight, euro, progress, boss, graem...\n",
       "Name: text, Length: 2225, dtype: object"
      ]
     },
     "execution_count": 21,
     "metadata": {},
     "output_type": "execute_result"
    }
   ],
   "source": [
    "df['text'].apply(text_process)"
   ]
  },
  {
   "cell_type": "markdown",
   "id": "d9d09bad",
   "metadata": {},
   "source": [
    "# Vectorization\n",
    "\n",
    "Now we have the messages as lists and we need to convert each of those messages into a vector that SciKit Learn's algorithm models can work with."
   ]
  },
  {
   "cell_type": "code",
   "execution_count": 22,
   "id": "0f1d687f",
   "metadata": {},
   "outputs": [
    {
     "data": {
      "text/html": [
       "<style>#sk-container-id-1 {color: black;background-color: white;}#sk-container-id-1 pre{padding: 0;}#sk-container-id-1 div.sk-toggleable {background-color: white;}#sk-container-id-1 label.sk-toggleable__label {cursor: pointer;display: block;width: 100%;margin-bottom: 0;padding: 0.3em;box-sizing: border-box;text-align: center;}#sk-container-id-1 label.sk-toggleable__label-arrow:before {content: \"▸\";float: left;margin-right: 0.25em;color: #696969;}#sk-container-id-1 label.sk-toggleable__label-arrow:hover:before {color: black;}#sk-container-id-1 div.sk-estimator:hover label.sk-toggleable__label-arrow:before {color: black;}#sk-container-id-1 div.sk-toggleable__content {max-height: 0;max-width: 0;overflow: hidden;text-align: left;background-color: #f0f8ff;}#sk-container-id-1 div.sk-toggleable__content pre {margin: 0.2em;color: black;border-radius: 0.25em;background-color: #f0f8ff;}#sk-container-id-1 input.sk-toggleable__control:checked~div.sk-toggleable__content {max-height: 200px;max-width: 100%;overflow: auto;}#sk-container-id-1 input.sk-toggleable__control:checked~label.sk-toggleable__label-arrow:before {content: \"▾\";}#sk-container-id-1 div.sk-estimator input.sk-toggleable__control:checked~label.sk-toggleable__label {background-color: #d4ebff;}#sk-container-id-1 div.sk-label input.sk-toggleable__control:checked~label.sk-toggleable__label {background-color: #d4ebff;}#sk-container-id-1 input.sk-hidden--visually {border: 0;clip: rect(1px 1px 1px 1px);clip: rect(1px, 1px, 1px, 1px);height: 1px;margin: -1px;overflow: hidden;padding: 0;position: absolute;width: 1px;}#sk-container-id-1 div.sk-estimator {font-family: monospace;background-color: #f0f8ff;border: 1px dotted black;border-radius: 0.25em;box-sizing: border-box;margin-bottom: 0.5em;}#sk-container-id-1 div.sk-estimator:hover {background-color: #d4ebff;}#sk-container-id-1 div.sk-parallel-item::after {content: \"\";width: 100%;border-bottom: 1px solid gray;flex-grow: 1;}#sk-container-id-1 div.sk-label:hover label.sk-toggleable__label {background-color: #d4ebff;}#sk-container-id-1 div.sk-serial::before {content: \"\";position: absolute;border-left: 1px solid gray;box-sizing: border-box;top: 0;bottom: 0;left: 50%;z-index: 0;}#sk-container-id-1 div.sk-serial {display: flex;flex-direction: column;align-items: center;background-color: white;padding-right: 0.2em;padding-left: 0.2em;position: relative;}#sk-container-id-1 div.sk-item {position: relative;z-index: 1;}#sk-container-id-1 div.sk-parallel {display: flex;align-items: stretch;justify-content: center;background-color: white;position: relative;}#sk-container-id-1 div.sk-item::before, #sk-container-id-1 div.sk-parallel-item::before {content: \"\";position: absolute;border-left: 1px solid gray;box-sizing: border-box;top: 0;bottom: 0;left: 50%;z-index: -1;}#sk-container-id-1 div.sk-parallel-item {display: flex;flex-direction: column;z-index: 1;position: relative;background-color: white;}#sk-container-id-1 div.sk-parallel-item:first-child::after {align-self: flex-end;width: 50%;}#sk-container-id-1 div.sk-parallel-item:last-child::after {align-self: flex-start;width: 50%;}#sk-container-id-1 div.sk-parallel-item:only-child::after {width: 0;}#sk-container-id-1 div.sk-dashed-wrapped {border: 1px dashed gray;margin: 0 0.4em 0.5em 0.4em;box-sizing: border-box;padding-bottom: 0.4em;background-color: white;}#sk-container-id-1 div.sk-label label {font-family: monospace;font-weight: bold;display: inline-block;line-height: 1.2em;}#sk-container-id-1 div.sk-label-container {text-align: center;}#sk-container-id-1 div.sk-container {/* jupyter's `normalize.less` sets `[hidden] { display: none; }` but bootstrap.min.css set `[hidden] { display: none !important; }` so we also need the `!important` here to be able to override the default hidden behavior on the sphinx rendered scikit-learn.org. See: https://github.com/scikit-learn/scikit-learn/issues/21755 */display: inline-block !important;position: relative;}#sk-container-id-1 div.sk-text-repr-fallback {display: none;}</style><div id=\"sk-container-id-1\" class=\"sk-top-container\"><div class=\"sk-text-repr-fallback\"><pre>CountVectorizer(analyzer=&lt;function text_process at 0x0000022E5C370550&gt;)</pre><b>In a Jupyter environment, please rerun this cell to show the HTML representation or trust the notebook. <br />On GitHub, the HTML representation is unable to render, please try loading this page with nbviewer.org.</b></div><div class=\"sk-container\" hidden><div class=\"sk-item\"><div class=\"sk-estimator sk-toggleable\"><input class=\"sk-toggleable__control sk-hidden--visually\" id=\"sk-estimator-id-1\" type=\"checkbox\" checked><label for=\"sk-estimator-id-1\" class=\"sk-toggleable__label sk-toggleable__label-arrow\">CountVectorizer</label><div class=\"sk-toggleable__content\"><pre>CountVectorizer(analyzer=&lt;function text_process at 0x0000022E5C370550&gt;)</pre></div></div></div></div></div>"
      ],
      "text/plain": [
       "CountVectorizer(analyzer=<function text_process at 0x0000022E5C370550>)"
      ]
     },
     "execution_count": 22,
     "metadata": {},
     "output_type": "execute_result"
    }
   ],
   "source": [
    "bow_transformer = CountVectorizer(analyzer=text_process).fit(df['text'])\n",
    "bow_transformer"
   ]
  },
  {
   "cell_type": "code",
   "execution_count": 23,
   "id": "bd88963f",
   "metadata": {},
   "outputs": [
    {
     "data": {
      "text/plain": [
       "{'tv': 30060,\n",
       " 'future': 12857,\n",
       " 'hands': 13983,\n",
       " 'viewers': 31069,\n",
       " 'home': 14680,\n",
       " 'theatre': 29138,\n",
       " 'systems': 28665,\n",
       " 'plasma': 22278,\n",
       " 'highdefinition': 14460,\n",
       " 'tvs': 30067,\n",
       " 'digital': 9404,\n",
       " 'video': 31050,\n",
       " 'recorders': 23995,\n",
       " 'moving': 19652,\n",
       " 'living': 17740,\n",
       " 'room': 25155,\n",
       " 'way': 31461,\n",
       " 'people': 21852,\n",
       " 'watch': 31427,\n",
       " 'radically': 23594,\n",
       " 'different': 9388,\n",
       " 'five': 12145,\n",
       " 'years': 32218,\n",
       " 'time': 29381,\n",
       " 'according': 2292,\n",
       " 'expert': 11405,\n",
       " 'panel': 21469,\n",
       " 'gathered': 13019,\n",
       " 'annual': 3230,\n",
       " 'consumer': 7759,\n",
       " 'electronics': 10546,\n",
       " 'show': 26554,\n",
       " 'las': 17169,\n",
       " 'vegas': 30924,\n",
       " 'discuss': 9579,\n",
       " 'new': 20152,\n",
       " 'technologies': 28915,\n",
       " 'impact': 15225,\n",
       " 'one': 20842,\n",
       " 'favourite': 11774,\n",
       " 'pastimes': 21645,\n",
       " 'us': 30743,\n",
       " 'leading': 17279,\n",
       " 'trend': 29828,\n",
       " 'programmes': 23088,\n",
       " 'content': 7793,\n",
       " 'delivered': 8994,\n",
       " 'via': 31005,\n",
       " 'networks': 20131,\n",
       " 'cable': 5898,\n",
       " 'satellite': 25567,\n",
       " 'telecoms': 28952,\n",
       " 'companies': 7378,\n",
       " 'broadband': 5541,\n",
       " 'service': 26199,\n",
       " 'providers': 23244,\n",
       " 'front': 12722,\n",
       " 'rooms': 25156,\n",
       " 'portable': 22531,\n",
       " 'devices': 9302,\n",
       " 'talkedabout': 28740,\n",
       " 'ces': 6452,\n",
       " 'personal': 21951,\n",
       " 'dvr': 10251,\n",
       " 'pvr': 23416,\n",
       " 'settop': 26226,\n",
       " 'boxes': 5322,\n",
       " 'like': 17589,\n",
       " 'tivo': 29444,\n",
       " 'uk': 30183,\n",
       " 'sky': 26884,\n",
       " 'system': 28662,\n",
       " 'allow': 2900,\n",
       " 'record': 23989,\n",
       " 'store': 27973,\n",
       " 'play': 22296,\n",
       " 'pause': 21695,\n",
       " 'forward': 12507,\n",
       " 'wind': 31808,\n",
       " 'want': 31347,\n",
       " 'essentially': 11055,\n",
       " 'technology': 28917,\n",
       " 'allows': 2906,\n",
       " 'much': 19692,\n",
       " 'personalised': 21954,\n",
       " 'also': 2944,\n",
       " 'builtin': 5708,\n",
       " 'sets': 26215,\n",
       " 'big': 4801,\n",
       " 'business': 5820,\n",
       " 'japan': 16233,\n",
       " 'slower': 26987,\n",
       " 'take': 28714,\n",
       " 'europe': 11119,\n",
       " 'lack': 17036,\n",
       " 'programming': 23089,\n",
       " 'adverts': 2546,\n",
       " 'forget': 12453,\n",
       " 'abiding': 2175,\n",
       " 'network': 20128,\n",
       " 'channel': 6529,\n",
       " 'schedules': 25702,\n",
       " 'putting': 23409,\n",
       " 'together': 29466,\n",
       " 'alacarte': 2755,\n",
       " 'entertainment': 10885,\n",
       " 'worried': 32028,\n",
       " 'means': 18764,\n",
       " 'terms': 29046,\n",
       " 'advertising': 2545,\n",
       " 'revenues': 24780,\n",
       " 'well': 31569,\n",
       " 'brand': 5377,\n",
       " 'identity': 15075,\n",
       " 'viewer': 31068,\n",
       " 'loyalty': 17981,\n",
       " 'channels': 6531,\n",
       " 'although': 2956,\n",
       " 'leads': 17281,\n",
       " 'moment': 19438,\n",
       " 'concern': 7513,\n",
       " 'raised': 23655,\n",
       " 'particularly': 21584,\n",
       " 'growing': 13713,\n",
       " 'uptake': 30718,\n",
       " 'services': 26200,\n",
       " 'happens': 14020,\n",
       " 'today': 29459,\n",
       " 'see': 25989,\n",
       " 'nine': 20281,\n",
       " 'months': 19498,\n",
       " 'adam': 2399,\n",
       " 'hume': 14922,\n",
       " 'bbc': 4435,\n",
       " 'broadcast': 5544,\n",
       " 'futurologist': 12862,\n",
       " 'told': 29478,\n",
       " 'news': 20179,\n",
       " 'website': 31511,\n",
       " 'likes': 17601,\n",
       " 'issues': 16119,\n",
       " 'lost': 17920,\n",
       " 'revenue': 24778,\n",
       " 'yet': 32236,\n",
       " 'pressing': 22866,\n",
       " 'issue': 16115,\n",
       " 'commercial': 7327,\n",
       " 'broadcasters': 5546,\n",
       " 'important': 15270,\n",
       " 'everyone': 11193,\n",
       " 'talking': 28741,\n",
       " 'brands': 5382,\n",
       " 'rather': 23762,\n",
       " 'said': 25431,\n",
       " 'tim': 29378,\n",
       " 'hanlon': 14000,\n",
       " 'communications': 7364,\n",
       " 'firm': 12098,\n",
       " 'starcom': 27734,\n",
       " 'mediavest': 18800,\n",
       " 'reality': 23848,\n",
       " 'connections': 7646,\n",
       " 'anybody': 3355,\n",
       " 'producer': 23043,\n",
       " 'added': 2419,\n",
       " 'challenge': 6490,\n",
       " 'hard': 14035,\n",
       " 'promote': 23128,\n",
       " 'programme': 23084,\n",
       " 'choice': 6726,\n",
       " 'stacey': 27644,\n",
       " 'jolna': 16421,\n",
       " 'senior': 26119,\n",
       " 'vice': 31020,\n",
       " 'president': 22856,\n",
       " 'guide': 13760,\n",
       " 'group': 13706,\n",
       " 'find': 12028,\n",
       " 'simplified': 26718,\n",
       " 'could': 8084,\n",
       " 'leaf': 17284,\n",
       " 'google': 13462,\n",
       " 'book': 5185,\n",
       " 'search': 25900,\n",
       " 'engine': 10816,\n",
       " 'instead': 15728,\n",
       " 'scheduler': 25701,\n",
       " 'help': 14338,\n",
       " 'kind': 16805,\n",
       " 'model': 19378,\n",
       " 'might': 19099,\n",
       " 'work': 31992,\n",
       " 'younger': 32269,\n",
       " 'ipod': 16004,\n",
       " 'generation': 13101,\n",
       " 'used': 30764,\n",
       " 'taking': 28725,\n",
       " 'control': 7859,\n",
       " 'gadgets': 12882,\n",
       " 'suit': 28294,\n",
       " 'recognised': 23965,\n",
       " 'older': 20791,\n",
       " 'generations': 13102,\n",
       " 'comfortable': 7290,\n",
       " 'familiar': 11651,\n",
       " 'know': 16889,\n",
       " 'getting': 13187,\n",
       " 'perhaps': 21900,\n",
       " 'put': 23404,\n",
       " 'mr': 19675,\n",
       " 'suggested': 28283,\n",
       " 'end': 10754,\n",
       " 'kids': 16773,\n",
       " 'diapers': 9345,\n",
       " 'pushing': 23403,\n",
       " 'buttons': 5850,\n",
       " 'already': 2941,\n",
       " 'everything': 11194,\n",
       " 'possible': 22578,\n",
       " 'available': 3968,\n",
       " 'ultimately': 30204,\n",
       " 'tell': 28978,\n",
       " 'market': 18449,\n",
       " '50': 1482,\n",
       " '000': 2,\n",
       " 'showcased': 26558,\n",
       " 'many': 18379,\n",
       " 'enhancing': 10832,\n",
       " 'tvwatching': 30069,\n",
       " 'experience': 11396,\n",
       " 'everywhere': 11195,\n",
       " 'models': 19381,\n",
       " 'lcd': 17266,\n",
       " 'liquid': 17678,\n",
       " 'crystal': 8408,\n",
       " 'display': 9659,\n",
       " 'launched': 17213,\n",
       " 'capability': 6071,\n",
       " 'built': 5707,\n",
       " 'external': 11490,\n",
       " 'example': 11236,\n",
       " 'humax': 14916,\n",
       " '26inch': 975,\n",
       " '80hour': 1911,\n",
       " 'dvd': 10247,\n",
       " 'recorder': 23994,\n",
       " 'biggest': 4805,\n",
       " 'directtv': 9484,\n",
       " 'even': 11165,\n",
       " 'branded': 5378,\n",
       " '100hours': 94,\n",
       " 'recording': 23999,\n",
       " 'instant': 15721,\n",
       " 'replay': 24489,\n",
       " 'function': 12806,\n",
       " 'set': 26206,\n",
       " 'rewind': 24830,\n",
       " '90': 2001,\n",
       " 'hours': 14829,\n",
       " 'microsoft': 19040,\n",
       " 'chief': 6680,\n",
       " 'bill': 4821,\n",
       " 'gates': 13014,\n",
       " 'announced': 3219,\n",
       " 'preshow': 22851,\n",
       " 'keynote': 16730,\n",
       " 'speech': 27427,\n",
       " 'partnership': 21597,\n",
       " 'called': 5951,\n",
       " 'tivotogo': 29446,\n",
       " 'recorded': 23993,\n",
       " 'windows': 31813,\n",
       " 'pcs': 21745,\n",
       " 'mobile': 19360,\n",
       " 'reflect': 24126,\n",
       " 'increasing': 15401,\n",
       " 'freeing': 12654,\n",
       " 'multimedia': 19747,\n",
       " 'worldcom': 32021,\n",
       " 'boss': 5256,\n",
       " 'left': 17348,\n",
       " 'books': 5198,\n",
       " 'alone': 2930,\n",
       " 'former': 12472,\n",
       " 'bernie': 4693,\n",
       " 'ebbers': 10353,\n",
       " 'accused': 2321,\n",
       " 'overseeing': 21280,\n",
       " '11bn': 212,\n",
       " '£58bn': 32820,\n",
       " 'fraud': 12625,\n",
       " 'never': 20141,\n",
       " 'made': 18136,\n",
       " 'accounting': 2302,\n",
       " 'decisions': 8823,\n",
       " 'witness': 31902,\n",
       " 'jurors': 16548,\n",
       " 'david': 8701,\n",
       " 'myers': 19852,\n",
       " 'comments': 7325,\n",
       " 'questioning': 23495,\n",
       " 'defence': 8898,\n",
       " 'lawyers': 17251,\n",
       " 'arguing': 3536,\n",
       " 'responsible': 24645,\n",
       " 'problems': 23012,\n",
       " 'phone': 22072,\n",
       " 'company': 7381,\n",
       " 'collapsed': 7202,\n",
       " '2002': 739,\n",
       " 'prosecutors': 23188,\n",
       " 'claim': 6869,\n",
       " 'losses': 17917,\n",
       " 'hidden': 14437,\n",
       " 'protect': 23204,\n",
       " 'shares': 26351,\n",
       " 'pleaded': 22323,\n",
       " 'guilty': 13774,\n",
       " 'assisting': 3741,\n",
       " 'monday': 19446,\n",
       " 'lawyer': 17250,\n",
       " 'reid': 24233,\n",
       " 'weingarten': 31549,\n",
       " 'tried': 29860,\n",
       " 'distance': 9700,\n",
       " 'client': 6987,\n",
       " 'allegations': 2865,\n",
       " 'cross': 8337,\n",
       " 'examination': 11231,\n",
       " 'asked': 3688,\n",
       " 'ever': 11175,\n",
       " 'knew': 16868,\n",
       " 'make': 18228,\n",
       " 'decision': 8820,\n",
       " 'aware': 4011,\n",
       " 'replied': 24494,\n",
       " 'entry': 10913,\n",
       " 'pressed': 22864,\n",
       " 'admitted': 2487,\n",
       " 'ordered': 21005,\n",
       " 'false': 11640,\n",
       " 'entries': 10911,\n",
       " 'request': 24533,\n",
       " 'financial': 12019,\n",
       " 'officer': 20737,\n",
       " 'scott': 25800,\n",
       " 'sullivan': 28309,\n",
       " 'trying': 29967,\n",
       " 'paint': 21410,\n",
       " 'testify': 29075,\n",
       " 'later': 17190,\n",
       " 'trial': 29839,\n",
       " 'mastermind': 18551,\n",
       " 'behind': 4558,\n",
       " 'house': 14830,\n",
       " 'cards': 6131,\n",
       " 'team': 28887,\n",
       " 'meanwhile': 18768,\n",
       " 'looking': 17879,\n",
       " 'portray': 22550,\n",
       " 'affable': 2575,\n",
       " 'admission': 2482,\n",
       " 'pe': 21752,\n",
       " 'graduate': 13535,\n",
       " 'economist': 10386,\n",
       " 'whatever': 31649,\n",
       " 'abilities': 2177,\n",
       " 'transformed': 29746,\n",
       " 'relative': 24299,\n",
       " 'unknown': 30512,\n",
       " '160bn': 429,\n",
       " 'giant': 13209,\n",
       " 'investor': 15964,\n",
       " 'darling': 8669,\n",
       " 'late': 17186,\n",
       " '1990s': 702,\n",
       " 'mounted': 19624,\n",
       " 'however': 14855,\n",
       " 'competition': 7411,\n",
       " 'increased': 15399,\n",
       " 'boom': 5202,\n",
       " 'petered': 21999,\n",
       " 'finally': 12014,\n",
       " 'shareholders': 26347,\n",
       " '180bn': 531,\n",
       " '20': 727,\n",
       " 'workers': 31996,\n",
       " 'jobs': 16376,\n",
       " 'expected': 11386,\n",
       " 'last': 17177,\n",
       " 'two': 30105,\n",
       " 'found': 12522,\n",
       " 'ceo': 6433,\n",
       " 'faces': 11562,\n",
       " 'substantial': 28214,\n",
       " 'jail': 16185,\n",
       " 'sentence': 26138,\n",
       " 'firmly': 12102,\n",
       " 'declared': 8834,\n",
       " 'innocence': 15644,\n",
       " 'tigers': 29361,\n",
       " 'wary': 31407,\n",
       " 'farrell': 11716,\n",
       " 'gamble': 12927,\n",
       " 'leicester': 17388,\n",
       " 'say': 25623,\n",
       " 'rushed': 25345,\n",
       " 'making': 18239,\n",
       " 'bid': 4792,\n",
       " 'andy': 3145,\n",
       " 'great': 13605,\n",
       " 'britain': 5518,\n",
       " 'rugby': 25289,\n",
       " 'league': 17288,\n",
       " 'captain': 6101,\n",
       " 'decide': 8812,\n",
       " 'switch': 28600,\n",
       " 'codes': 7141,\n",
       " 'else': 10603,\n",
       " 'involved': 15982,\n",
       " 'process': 23023,\n",
       " 'still': 27904,\n",
       " 'away': 4013,\n",
       " 'going': 13414,\n",
       " 'next': 20191,\n",
       " 'stage': 27656,\n",
       " 'john': 16392,\n",
       " 'wells': 31600,\n",
       " 'radio': 23598,\n",
       " 'lot': 17922,\n",
       " 'unknowns': 30513,\n",
       " 'least': 17321,\n",
       " 'medical': 18802,\n",
       " 'situation': 26810,\n",
       " 'whoever': 31715,\n",
       " 'persistent': 21944,\n",
       " 'knee': 16865,\n",
       " 'operation': 20942,\n",
       " 'weeks': 31535,\n",
       " 'ago': 2660,\n",
       " 'another': 3244,\n",
       " 'three': 29249,\n",
       " 'saracens': 25547,\n",
       " 'believed': 4588,\n",
       " 'head': 14201,\n",
       " 'list': 17691,\n",
       " 'union': 30486,\n",
       " 'clubs': 7064,\n",
       " 'interested': 15819,\n",
       " 'signing': 26673,\n",
       " 'decides': 8816,\n",
       " 'move': 19639,\n",
       " '15man': 416,\n",
       " 'game': 12931,\n",
       " 'across': 2364,\n",
       " 'believes': 4590,\n",
       " 'would': 32048,\n",
       " 'better': 4744,\n",
       " 'playing': 22308,\n",
       " 'backs': 4102,\n",
       " 'initially': 15605,\n",
       " 'sure': 28424,\n",
       " 'step': 27849,\n",
       " 'centre': 6419,\n",
       " 'think': 29183,\n",
       " 'england': 10822,\n",
       " 'prefer': 22757,\n",
       " 'progress': 23091,\n",
       " 'position': 22564,\n",
       " 'back': 4065,\n",
       " 'row': 25233,\n",
       " 'use': 30762,\n",
       " 'skills': 26866,\n",
       " 'within': 31895,\n",
       " 'forwards': 12508,\n",
       " 'jury': 16549,\n",
       " 'whether': 31667,\n",
       " 'divide': 9764,\n",
       " 'club': 7059,\n",
       " 'balance': 4178,\n",
       " 'struck': 28110,\n",
       " 'cost': 8049,\n",
       " 'option': 20986,\n",
       " 'bringing': 5509,\n",
       " 'readymade': 23831,\n",
       " 'replacement': 24485,\n",
       " 'yeading': 32204,\n",
       " 'face': 11559,\n",
       " 'newcastle': 20157,\n",
       " 'fa': 11548,\n",
       " 'cup': 8460,\n",
       " 'premiership': 22792,\n",
       " 'side': 26621,\n",
       " 'united': 30497,\n",
       " 'trip': 29883,\n",
       " 'ryman': 25371,\n",
       " 'premier': 22788,\n",
       " 'leaders': 17277,\n",
       " 'third': 29192,\n",
       " 'round': 25206,\n",
       " 'arguably': 3532,\n",
       " 'highlight': 14483,\n",
       " 'draw': 10053,\n",
       " 'potential': 22623,\n",
       " 'moneyspinner': 19455,\n",
       " 'nonleague': 20399,\n",
       " 'beat': 4470,\n",
       " 'slough': 26976,\n",
       " 'second': 25938,\n",
       " 'conference': 7566,\n",
       " 'exeter': 11322,\n",
       " 'city': 6853,\n",
       " 'knocked': 16882,\n",
       " 'doncaster': 9894,\n",
       " 'saturday': 25583,\n",
       " 'travel': 29788,\n",
       " 'old': 20790,\n",
       " 'trafford': 29705,\n",
       " 'meet': 18819,\n",
       " 'holders': 14649,\n",
       " 'manchester': 18309,\n",
       " 'january': 16229,\n",
       " 'arsenal': 3610,\n",
       " 'drawn': 10059,\n",
       " 'stoke': 27945,\n",
       " 'chelsea': 6637,\n",
       " 'host': 14791,\n",
       " 'scunthorpe': 25870,\n",
       " 'hinckley': 14531,\n",
       " 'held': 14318,\n",
       " 'brentford': 5451,\n",
       " 'goalless': 13383,\n",
       " 'sunday': 28326,\n",
       " 'luton': 18051,\n",
       " 'win': 31806,\n",
       " 'martin': 18499,\n",
       " 'allen': 2873,\n",
       " 'griffin': 13659,\n",
       " 'park': 21541,\n",
       " 'number': 20569,\n",
       " 'teams': 28892,\n",
       " 'difficult': 9394,\n",
       " 'games': 12945,\n",
       " 'championship': 6505,\n",
       " 'sides': 26633,\n",
       " 'weekend': 31529,\n",
       " '89': 1987,\n",
       " 'thirdplaced': 29199,\n",
       " 'everton': 11189,\n",
       " 'visit': 31154,\n",
       " 'plymouth': 22378,\n",
       " 'liverpool': 17732,\n",
       " 'burnley': 5791,\n",
       " 'palace': 21428,\n",
       " 'go': 13374,\n",
       " 'sunderland': 28328,\n",
       " 'fulham': 12779,\n",
       " 'carling': 6161,\n",
       " 'semifinalists': 26092,\n",
       " 'watford': 31448,\n",
       " 'bolton': 5142,\n",
       " 'ipswich': 16011,\n",
       " 'aston': 3763,\n",
       " 'villa': 31089,\n",
       " 'sheffield': 26398,\n",
       " 'strugglers': 28118,\n",
       " 'norwich': 20479,\n",
       " 'blackburn': 4912,\n",
       " 'west': 31626,\n",
       " 'brom': 5574,\n",
       " 'ham': 13931,\n",
       " 'cardiff': 6126,\n",
       " 'preston': 22874,\n",
       " 'north': 20461,\n",
       " 'respectively': 24630,\n",
       " 'southampton': 27303,\n",
       " 'northampton': 20462,\n",
       " 'beaten': 4472,\n",
       " 'earlier': 10289,\n",
       " 'season': 25911,\n",
       " 'middlesbrough': 19067,\n",
       " 'either': 10508,\n",
       " 'swindon': 28590,\n",
       " 'notts': 20523,\n",
       " 'county': 8124,\n",
       " 'spurs': 27591,\n",
       " 'entertain': 10880,\n",
       " 'brighton': 5500,\n",
       " 'white': 31699,\n",
       " 'hart': 14103,\n",
       " 'lane': 17122,\n",
       " 'v': 30808,\n",
       " 'swindonnotts': 28591,\n",
       " 'co': 7090,\n",
       " 'man': 18297,\n",
       " 'utd': 30789,\n",
       " 'blackpool': 4918,\n",
       " 'derby': 9153,\n",
       " 'wigan': 31758,\n",
       " 'wolves': 31942,\n",
       " 'millwall': 19155,\n",
       " 'hull': 14900,\n",
       " 'colchester': 7180,\n",
       " 'tottenham': 29608,\n",
       " 'reading': 23826,\n",
       " 'stockportswansea': 27939,\n",
       " 'birmingham': 4873,\n",
       " 'leeds': 17344,\n",
       " 'hartlepool': 14104,\n",
       " 'boston': 5259,\n",
       " 'milton': 19159,\n",
       " 'keynes': 16729,\n",
       " 'dons': 9911,\n",
       " 'peterborough': 21997,\n",
       " 'oldham': 20794,\n",
       " 'charlton': 6573,\n",
       " 'rochdale': 25066,\n",
       " 'sheff': 26396,\n",
       " 'rotherham': 25193,\n",
       " 'yeovil': 32231,\n",
       " 'bournemouth': 5301,\n",
       " 'chester': 6666,\n",
       " 'coventry': 8155,\n",
       " 'crewe': 8272,\n",
       " 'portsmouth': 22556,\n",
       " 'gillingham': 13250,\n",
       " 'qpr': 23436,\n",
       " 'nottm': 20521,\n",
       " 'forest': 12445,\n",
       " 'hinckleybrentford': 14532,\n",
       " 'matches': 18566,\n",
       " 'played': 22302,\n",
       " 'ocean': 20689,\n",
       " 'twelve': 30077,\n",
       " 'raids': 23633,\n",
       " 'box': 5320,\n",
       " 'office': 20736,\n",
       " 'crime': 8281,\n",
       " 'caper': 6078,\n",
       " 'sequel': 26158,\n",
       " 'starring': 27744,\n",
       " 'george': 13145,\n",
       " 'clooney': 7034,\n",
       " 'brad': 5350,\n",
       " 'pitt': 22221,\n",
       " 'julia': 16510,\n",
       " 'roberts': 25045,\n",
       " 'gone': 13435,\n",
       " 'straight': 27998,\n",
       " 'chart': 6578,\n",
       " 'took': 29517,\n",
       " '408m': 1298,\n",
       " '£21m': 32554,\n",
       " 'ticket': 29333,\n",
       " 'sales': 25455,\n",
       " 'studio': 28133,\n",
       " 'estimates': 11073,\n",
       " 'follows': 12367,\n",
       " 'master': 18547,\n",
       " 'criminals': 8291,\n",
       " 'try': 29965,\n",
       " 'pull': 23322,\n",
       " 'major': 18220,\n",
       " 'heists': 14316,\n",
       " 'week': 31528,\n",
       " 'national': 19965,\n",
       " 'treasure': 29807,\n",
       " 'place': 22240,\n",
       " 'wesley': 31623,\n",
       " 'snipes': 27104,\n",
       " 'blade': 4922,\n",
       " 'trinity': 29880,\n",
       " '161m': 434,\n",
       " '£84m': 32910,\n",
       " 'rounding': 25209,\n",
       " 'top': 29532,\n",
       " 'animated': 3188,\n",
       " 'fable': 11552,\n",
       " 'polar': 22431,\n",
       " 'express': 11465,\n",
       " 'tom': 29488,\n",
       " 'hanks': 13998,\n",
       " 'festive': 11897,\n",
       " 'comedy': 7284,\n",
       " 'christmas': 6769,\n",
       " 'kranks': 16956,\n",
       " 'triumph': 29893,\n",
       " 'marks': 18463,\n",
       " 'fourthbiggest': 12546,\n",
       " 'opening': 20926,\n",
       " 'december': 8802,\n",
       " 'release': 24310,\n",
       " 'films': 11999,\n",
       " 'lord': 17901,\n",
       " 'rings': 24964,\n",
       " 'trilogy': 29872,\n",
       " 'narrowly': 19944,\n",
       " '2001': 733,\n",
       " 'predecessor': 22734,\n",
       " 'eleven': 10564,\n",
       " '381m': 1239,\n",
       " '£198m': 32533,\n",
       " '184m': 550,\n",
       " '£958m': 32943,\n",
       " 'total': 29594,\n",
       " 'remake': 24357,\n",
       " '1960s': 659,\n",
       " 'film': 11991,\n",
       " 'frank': 12607,\n",
       " 'sinatra': 26741,\n",
       " 'rat': 23753,\n",
       " 'pack': 21372,\n",
       " 'directed': 9469,\n",
       " 'oscarwinning': 21074,\n",
       " 'director': 9476,\n",
       " 'steven': 27879,\n",
       " 'soderbergh': 27156,\n",
       " 'returns': 24744,\n",
       " 'direct': 9467,\n",
       " 'hit': 14580,\n",
       " 'reunites': 24750,\n",
       " 'matt': 18599,\n",
       " 'damon': 8617,\n",
       " 'garcia': 12973,\n",
       " 'elliott': 10594,\n",
       " 'gould': 13495,\n",
       " 'catherine': 6305,\n",
       " 'zetajones': 32345,\n",
       " 'joins': 16403,\n",
       " 'allstar': 2914,\n",
       " 'cast': 6258,\n",
       " 'fun': 12805,\n",
       " 'good': 13444,\n",
       " 'holiday': 14656,\n",
       " 'movie': 19645,\n",
       " 'dan': 8622,\n",
       " 'fellman': 11846,\n",
       " 'distribution': 9730,\n",
       " 'warner': 31388,\n",
       " 'bros': 5590,\n",
       " 'critics': 8317,\n",
       " 'less': 17437,\n",
       " 'complimentary': 7447,\n",
       " '110m': 179,\n",
       " '£572m': 32816,\n",
       " 'project': 23104,\n",
       " 'los': 17910,\n",
       " 'angeles': 3154,\n",
       " 'times': 29388,\n",
       " 'labelling': 17023,\n",
       " 'dispiriting': 9654,\n",
       " 'vanity': 30877,\n",
       " 'milder': 19123,\n",
       " 'review': 24792,\n",
       " 'york': 32259,\n",
       " 'dubbed': 10166,\n",
       " 'unabashedly': 30225,\n",
       " 'trivial': 29898,\n",
       " 'howard': 14849,\n",
       " 'hits': 14590,\n",
       " 'mongrel': 19461,\n",
       " 'jibe': 16345,\n",
       " 'michael': 19021,\n",
       " 'peter': 21996,\n",
       " 'hain': 13868,\n",
       " 'tory': 29585,\n",
       " 'leader': 17275,\n",
       " 'acting': 2368,\n",
       " 'attack': 3818,\n",
       " 'shows': 26571,\n",
       " 'labour': 17028,\n",
       " 'rattled': 23776,\n",
       " 'opposition': 20966,\n",
       " 'upbeat': 30666,\n",
       " 'party': 21604,\n",
       " 'spring': 27565,\n",
       " 'campaigning': 6000,\n",
       " 'tactics': 28695,\n",
       " 'proved': 23236,\n",
       " 'tories': 29569,\n",
       " 'hitting': 14593,\n",
       " 'antiterror': 3334,\n",
       " 'debate': 8765,\n",
       " 'something': 27219,\n",
       " 'tells': 28981,\n",
       " 'someone': 27216,\n",
       " 'somewhere': 27223,\n",
       " 'little': 17715,\n",
       " 'bit': 4891,\n",
       " 'commons': 7357,\n",
       " 'four': 12531,\n",
       " 'stance': 27701,\n",
       " 'government': 13502,\n",
       " 'antiterrorism': 3335,\n",
       " 'legislation': 17375,\n",
       " 'country': 8116,\n",
       " 'risk': 24990,\n",
       " 'behaving': 4553,\n",
       " 'sake': 25441,\n",
       " 'anything': 3360,\n",
       " 'cling': 7006,\n",
       " 'costs': 8068,\n",
       " 'far': 11684,\n",
       " 'year': 32207,\n",
       " 'compared': 7385,\n",
       " 'fagin': 11589,\n",
       " 'shylock': 26604,\n",
       " 'flying': 12329,\n",
       " 'pig': 22153,\n",
       " 'morning': 19543,\n",
       " 'environment': 10921,\n",
       " 'secretary': 25963,\n",
       " 'margaret': 18415,\n",
       " 'beckett': 4498,\n",
       " 'rejected': 24280,\n",
       " 'comment': 7316,\n",
       " 'telling': 28980,\n",
       " '4': 1281,\n",
       " 'pm': 22379,\n",
       " 'real': 23838,\n",
       " 'duty': 10243,\n",
       " 'get': 13183,\n",
       " 'focus': 12336,\n",
       " 'proposals': 23170,\n",
       " 'examples': 11237,\n",
       " 'seeing': 25994,\n",
       " 'believe': 4587,\n",
       " 'really': 23852,\n",
       " 'poor': 22492,\n",
       " 'judgement': 16489,\n",
       " 'behalf': 4550,\n",
       " 'policies': 22439,\n",
       " 'schools': 25737,\n",
       " 'taxes': 28859,\n",
       " 'immigration': 15217,\n",
       " 'striking': 28078,\n",
       " 'chord': 6744,\n",
       " 'voters': 31241,\n",
       " 'since': 26744,\n",
       " 'beginning': 4544,\n",
       " 'election': 10527,\n",
       " 'political': 22450,\n",
       " 'weather': 31490,\n",
       " 'denied': 9068,\n",
       " 'politics': 22458,\n",
       " 'raising': 23657,\n",
       " 'case': 6239,\n",
       " 'dixon': 9783,\n",
       " 'whose': 31724,\n",
       " 'cancelled': 6025,\n",
       " 'seven': 26231,\n",
       " 'grabbed': 13519,\n",
       " 'headlines': 14215,\n",
       " 'claims': 6874,\n",
       " 'mrs': 19678,\n",
       " 'human': 14903,\n",
       " 'shield': 26434,\n",
       " 'blair': 4925,\n",
       " 'plans': 22269,\n",
       " 'quotas': 23544,\n",
       " 'media': 18793,\n",
       " 'coverage': 8157,\n",
       " 'racist': 23576,\n",
       " 'common': 7354,\n",
       " 'sense': 26124,\n",
       " 'pledged': 22335,\n",
       " 'cleaner': 6946,\n",
       " 'hospitals': 14789,\n",
       " 'school': 25726,\n",
       " 'discipline': 9528,\n",
       " 'promise': 23124,\n",
       " 'rid': 24896,\n",
       " 'correctness': 8013,\n",
       " 'curriculum': 8484,\n",
       " 'give': 13276,\n",
       " 'chance': 6509,\n",
       " 'decent': 8804,\n",
       " 'state': 27763,\n",
       " 'education': 10435,\n",
       " 'come': 7278,\n",
       " 'ordinary': 21009,\n",
       " 'family': 11655,\n",
       " 'teenage': 28931,\n",
       " 'applying': 3427,\n",
       " 'cambridge': 5978,\n",
       " 'gordon': 13471,\n",
       " 'brown': 5600,\n",
       " 'love': 17938,\n",
       " 'stressed': 28056,\n",
       " 'commitment': 7343,\n",
       " 'cut': 8514,\n",
       " 'red': 24033,\n",
       " 'tape': 28789,\n",
       " 'increase': 15398,\n",
       " 'basic': 4373,\n",
       " 'pension': 21841,\n",
       " 'line': 17642,\n",
       " 'earnings': 10302,\n",
       " 'finished': 12050,\n",
       " 'appeal': 3396,\n",
       " 'activists': 2383,\n",
       " 'day': 8713,\n",
       " 'able': 2181,\n",
       " 'children': 6697,\n",
       " 'grandchildren': 13555,\n",
       " 'mine': 19178,\n",
       " 'part': 21569,\n",
       " 'helped': 14339,\n",
       " 'famous': 11659,\n",
       " 'coordinator': 7933,\n",
       " 'alan': 2759,\n",
       " 'milburn': 19121,\n",
       " 'confirms': 7592,\n",
       " 'always': 2970,\n",
       " 'strategy': 28025,\n",
       " 'opportunism': 20957,\n",
       " 'vision': 31152,\n",
       " 'reference': 24109,\n",
       " 'appearance': 3401,\n",
       " 'perfectly': 21888,\n",
       " 'entitled': 10899,\n",
       " 'pose': 22560,\n",
       " 'working': 32001,\n",
       " 'families': 11654,\n",
       " 'damaged': 8605,\n",
       " 'plan': 22257,\n",
       " '£35bn': 32680,\n",
       " 'public': 23295,\n",
       " 'spending': 27450,\n",
       " 'prepares': 22814,\n",
       " 'name': 19892,\n",
       " 'poll': 22459,\n",
       " 'date': 8686,\n",
       " 'tony': 29516,\n",
       " 'likely': 17596,\n",
       " '5': 1481,\n",
       " 'may': 18635,\n",
       " 'parliament': 21550,\n",
       " 'easter': 10324,\n",
       " 'break': 5414,\n",
       " 'editor': 10417,\n",
       " 'learned': 17311,\n",
       " 'andrew': 3141,\n",
       " 'marr': 18477,\n",
       " 'says': 25628,\n",
       " 'ask': 3686,\n",
       " 'queen': 23481,\n",
       " 'april': 3464,\n",
       " 'dissolve': 9697,\n",
       " 'resisted': 24604,\n",
       " 'calls': 5957,\n",
       " 'parties': 21586,\n",
       " 'stepped': 27861,\n",
       " 'recently': 23931,\n",
       " 'downing': 9997,\n",
       " 'street': 28045,\n",
       " 'saying': 25626,\n",
       " 'timing': 29397,\n",
       " 'matter': 18601,\n",
       " 'prime': 22938,\n",
       " 'minister': 19209,\n",
       " '10': 85,\n",
       " 'spokeswoman': 27516,\n",
       " 'announce': 3218,\n",
       " 'wants': 31351,\n",
       " 'signal': 26661,\n",
       " 'frantic': 12616,\n",
       " 'westminster': 31635,\n",
       " 'key': 16726,\n",
       " 'needs': 20048,\n",
       " 'finance': 12016,\n",
       " 'covering': 8159,\n",
       " 'budget': 5679,\n",
       " 'passed': 21623,\n",
       " 'closes': 7042,\n",
       " 'session': 26204,\n",
       " '7': 1768,\n",
       " 'seek': 25995,\n",
       " 'push': 23400,\n",
       " 'serious': 26183,\n",
       " 'organised': 21019,\n",
       " 'id': 15054,\n",
       " 'wednesday': 31522,\n",
       " 'almost': 2927,\n",
       " 'nobody': 20321,\n",
       " 'level': 17462,\n",
       " 'inside': 15682,\n",
       " 'expect': 11381,\n",
       " 'soon': 27242,\n",
       " 'short': 26518,\n",
       " 'recess': 23938,\n",
       " 'whips': 31682,\n",
       " 'asks': 3691,\n",
       " 'officially': 20741,\n",
       " 'june': 16529,\n",
       " '2006': 750,\n",
       " 'hold': 14647,\n",
       " 'general': 13092,\n",
       " 'recent': 23930,\n",
       " 'governments': 13507,\n",
       " ...}"
      ]
     },
     "execution_count": 23,
     "metadata": {},
     "output_type": "execute_result"
    }
   ],
   "source": [
    "bow_transformer.vocabulary_"
   ]
  },
  {
   "cell_type": "code",
   "execution_count": 24,
   "id": "f91b29b7",
   "metadata": {
    "scrolled": true
   },
   "outputs": [
    {
     "name": "stdout",
     "output_type": "stream",
     "text": [
      "32955\n"
     ]
    }
   ],
   "source": [
    "#Print total number of vocab words\n",
    "print(len(bow_transformer.vocabulary_))"
   ]
  },
  {
   "cell_type": "markdown",
   "id": "794c5e87",
   "metadata": {},
   "source": [
    "####  Let's take one text message and get its bag-of-words counts as a vector, putting to use our new bow_transformer"
   ]
  },
  {
   "cell_type": "code",
   "execution_count": 25,
   "id": "14263117",
   "metadata": {
    "scrolled": true
   },
   "outputs": [
    {
     "name": "stdout",
     "output_type": "stream",
     "text": [
      "yeading face newcastle in fa cup premiership side newcastle united face a trip to ryman premier league leaders yeading in the fa cup third round.  the game - arguably the highlight of the draw - is a potential money-spinner for non-league yeading  who beat slough in the second round. conference side exeter city  who knocked out doncaster on saturday  will travel to old trafford to meet holders manchester united in january. arsenal were drawn at home to stoke and chelsea will play host to scunthorpe. the only other non-league side in the draw are hinckley united  who held brentford to a goalless draw on sunday. they will meet league one leaders luton if they win their replay against martin allen s team at griffin park.  a number of premiership teams face difficult away games against championship sides on the weekend of 8/9 january. third-placed everton visit plymouth  liverpool travel to burnley  crystal palace go to sunderland  fulham face carling cup semi-finalists watford  bolton meet ipswich  while aston villa were drawn against sheffield united. premiership strugglers norwich  blackburn  west brom are away at west ham  cardiff and preston north end respectively. southampton visit northampton  having already beaten the league two side in the carling cup earlier this season. middlesbrough were drawn away against either swindon or notts county  while spurs entertain brighton at white hart lane.  arsenal v stoke  swindon/notts co v middlesbrough  man utd v exeter  plymouth v everton  leicester v blackpool  derby v wigan  sunderland v crystal palace  wolves v millwall  yeading v newcastle  hull v colchester  tottenham v brighton  reading v stockport/swansea  birmingham v leeds  hartlepool v boston  milton keynes dons v peterborough  oldham v man city  chelsea v scunthorpe  cardiff v blackburn  charlton v rochdale  west ham v norwich  sheff utd v aston villa  preston v west brom  rotherham v yeovil  burnley v liverpool  bournemouth v chester  coventry v crewe  watford v fulham  ipswich v bolton  portsmouth v gillingham  northampton v southampton  qpr v nottm forest  luton v hinckley/brentford  matches to be played on weekend of 8/9 january.\n"
     ]
    }
   ],
   "source": [
    "message4 = df['text'][3]\n",
    "print(message4)"
   ]
  },
  {
   "cell_type": "markdown",
   "id": "ce3188b7",
   "metadata": {},
   "source": [
    "#### Now let's see its vector representation"
   ]
  },
  {
   "cell_type": "code",
   "execution_count": 28,
   "id": "fd436663",
   "metadata": {},
   "outputs": [
    {
     "name": "stdout",
     "output_type": "stream",
     "text": [
      "(1, 32955)\n"
     ]
    }
   ],
   "source": [
    "bow4 = bow_transformer.transform([message4])\n",
    "#print(bow4)\n",
    "print(bow4.shape)"
   ]
  },
  {
   "cell_type": "markdown",
   "id": "59322b74",
   "metadata": {},
   "source": [
    "#### Now let's transform the entire DataFrame of messages and create sparse matrix"
   ]
  },
  {
   "cell_type": "code",
   "execution_count": 29,
   "id": "136fc8c3",
   "metadata": {},
   "outputs": [
    {
     "data": {
      "text/plain": [
       "<2225x32955 sparse matrix of type '<class 'numpy.int64'>'\n",
       "\twith 351196 stored elements in Compressed Sparse Row format>"
      ]
     },
     "execution_count": 29,
     "metadata": {},
     "output_type": "execute_result"
    }
   ],
   "source": [
    "messages_bow = bow_transformer.transform(df['text'])\n",
    "messages_bow"
   ]
  },
  {
   "cell_type": "code",
   "execution_count": 30,
   "id": "2ecc0488",
   "metadata": {},
   "outputs": [
    {
     "name": "stdout",
     "output_type": "stream",
     "text": [
      "Shape of Sparse Matrix:  (2225, 32955)\n",
      "Amount of Non-Zero occurances:  351196\n"
     ]
    }
   ],
   "source": [
    "print(\"Shape of Sparse Matrix: \", messages_bow.shape)\n",
    "print(\"Amount of Non-Zero occurances: \", messages_bow.nnz)"
   ]
  },
  {
   "cell_type": "code",
   "execution_count": 31,
   "id": "06700331",
   "metadata": {
    "scrolled": true
   },
   "outputs": [
    {
     "name": "stdout",
     "output_type": "stream",
     "text": [
      "sparsity: 0.47895887991626307\n"
     ]
    }
   ],
   "source": [
    "# sparsity = (100.0 * messages_bow.nnz / (messages_bow.shape[0] * messages_bow.shape[1]))\n",
    "# print('sparsity: {}'.format((sparsity)))"
   ]
  },
  {
   "cell_type": "markdown",
   "id": "179783c6",
   "metadata": {},
   "source": [
    "# TF-IDF\n",
    "\n",
    "Now let's compute term weighting and do normalisation with TF-IDF\n"
   ]
  },
  {
   "cell_type": "code",
   "execution_count": 32,
   "id": "f44d41b9",
   "metadata": {
    "scrolled": false
   },
   "outputs": [
    {
     "name": "stdout",
     "output_type": "stream",
     "text": [
      "  (0, 32269)\t0.037935187764147046\n",
      "  (0, 32236)\t0.02502710456830842\n",
      "  (0, 32218)\t0.033864397027638396\n",
      "  (0, 32028)\t0.03710594759218775\n",
      "  (0, 31992)\t0.02100667673046039\n",
      "  (0, 31813)\t0.03664812000393144\n",
      "  (0, 31808)\t0.09589102026311293\n",
      "  (0, 31569)\t0.01883413134132603\n",
      "  (0, 31511)\t0.02678740422843605\n",
      "  (0, 31461)\t0.03734874333099458\n",
      "  (0, 31427)\t0.136138533411439\n",
      "  (0, 31347)\t0.14814741780153445\n",
      "  (0, 31069)\t0.10864793656258968\n",
      "  (0, 31068)\t0.04861588905896267\n",
      "  (0, 31050)\t0.05626926860855512\n",
      "  (0, 31020)\t0.03695029588627538\n",
      "  (0, 31005)\t0.03145737594843765\n",
      "  (0, 30924)\t0.04141750597288596\n",
      "  (0, 30764)\t0.021827078427897984\n",
      "  (0, 30743)\t0.10694223933162789\n",
      "  (0, 30718)\t0.052098207267701584\n",
      "  (0, 30204)\t0.03992163146528098\n",
      "  (0, 30183)\t0.05650239402397808\n",
      "  (0, 30069)\t0.06175011629580761\n",
      "  (0, 30067)\t0.09245260244321195\n",
      "  :\t:\n",
      "  (2224, 9895)\t0.12109971024430365\n",
      "  (2224, 8984)\t0.11442471146497192\n",
      "  (2224, 8820)\t0.056428957311948434\n",
      "  (2224, 8637)\t0.09213091532167896\n",
      "  (2224, 8460)\t0.1299593243904044\n",
      "  (2224, 7059)\t0.06417806790161315\n",
      "  (2224, 5256)\t0.06763033995423327\n",
      "  (2224, 4891)\t0.06980282693127407\n",
      "  (2224, 4473)\t0.08464257961807096\n",
      "  (2224, 4470)\t0.06606710825034164\n",
      "  (2224, 4465)\t0.11442471146497192\n",
      "  (2224, 4192)\t0.07669904454175079\n",
      "  (2224, 3822)\t0.09006090543422118\n",
      "  (2224, 3362)\t0.10324735448749352\n",
      "  (2224, 2970)\t0.05957568898995083\n",
      "  (2224, 2944)\t0.027492986427464096\n",
      "  (2224, 2759)\t0.07282305585488702\n",
      "  (2224, 2640)\t0.13373257093176388\n",
      "  (2224, 2528)\t0.07862697789903562\n",
      "  (2224, 2419)\t0.04127237556105584\n",
      "  (2224, 1323)\t0.09213091532167896\n",
      "  (2224, 816)\t0.07692878338269066\n",
      "  (2224, 728)\t0.07692878338269066\n",
      "  (2224, 424)\t0.07027151526855119\n",
      "  (2224, 218)\t0.05940422644877817\n"
     ]
    }
   ],
   "source": [
    "tfidf_transformer = TfidfTransformer().fit(messages_bow)\n",
    "tfidf_transform = tfidf_transformer.transform(messages_bow)\n",
    "print(tfidf_transform)"
   ]
  },
  {
   "cell_type": "markdown",
   "id": "3ec08c6e",
   "metadata": {},
   "source": [
    "# Split dataset"
   ]
  },
  {
   "cell_type": "code",
   "execution_count": 33,
   "id": "dade49af",
   "metadata": {
    "scrolled": true
   },
   "outputs": [
    {
     "name": "stdout",
     "output_type": "stream",
     "text": [
      "1780 445 2225\n"
     ]
    }
   ],
   "source": [
    "msg_train, msg_test, label_train, label_test = train_test_split(df['text'],df['category'], test_size=0.2,shuffle=True)\n",
    "print(len(msg_train), len(msg_test), len(msg_train) + len(msg_test))"
   ]
  },
  {
   "cell_type": "markdown",
   "id": "9bebe7d2",
   "metadata": {},
   "source": [
    "# Creating Data Pipeline\n",
    "\n",
    "\n",
    "Let's run our model again and then predict the test set. We will create and use a pipeline for this purpose"
   ]
  },
  {
   "cell_type": "markdown",
   "id": "1abf0aef",
   "metadata": {},
   "source": [
    "# For SVM"
   ]
  },
  {
   "cell_type": "code",
   "execution_count": 34,
   "id": "46a3f7da",
   "metadata": {},
   "outputs": [],
   "source": [
    "pipeline = Pipeline([\n",
    "    ('bow', CountVectorizer(analyzer=text_process)), # strings to token integer counts\n",
    "    ('tfidf', TfidfTransformer()), # integer counts to weighted TF-IDF scores\n",
    "    ('classifier', SVC()) #train on TF-IDF vectors w/SVM\n",
    "])"
   ]
  },
  {
   "cell_type": "code",
   "execution_count": 35,
   "id": "81c72c78",
   "metadata": {},
   "outputs": [
    {
     "data": {
      "text/html": [
       "<style>#sk-container-id-2 {color: black;background-color: white;}#sk-container-id-2 pre{padding: 0;}#sk-container-id-2 div.sk-toggleable {background-color: white;}#sk-container-id-2 label.sk-toggleable__label {cursor: pointer;display: block;width: 100%;margin-bottom: 0;padding: 0.3em;box-sizing: border-box;text-align: center;}#sk-container-id-2 label.sk-toggleable__label-arrow:before {content: \"▸\";float: left;margin-right: 0.25em;color: #696969;}#sk-container-id-2 label.sk-toggleable__label-arrow:hover:before {color: black;}#sk-container-id-2 div.sk-estimator:hover label.sk-toggleable__label-arrow:before {color: black;}#sk-container-id-2 div.sk-toggleable__content {max-height: 0;max-width: 0;overflow: hidden;text-align: left;background-color: #f0f8ff;}#sk-container-id-2 div.sk-toggleable__content pre {margin: 0.2em;color: black;border-radius: 0.25em;background-color: #f0f8ff;}#sk-container-id-2 input.sk-toggleable__control:checked~div.sk-toggleable__content {max-height: 200px;max-width: 100%;overflow: auto;}#sk-container-id-2 input.sk-toggleable__control:checked~label.sk-toggleable__label-arrow:before {content: \"▾\";}#sk-container-id-2 div.sk-estimator input.sk-toggleable__control:checked~label.sk-toggleable__label {background-color: #d4ebff;}#sk-container-id-2 div.sk-label input.sk-toggleable__control:checked~label.sk-toggleable__label {background-color: #d4ebff;}#sk-container-id-2 input.sk-hidden--visually {border: 0;clip: rect(1px 1px 1px 1px);clip: rect(1px, 1px, 1px, 1px);height: 1px;margin: -1px;overflow: hidden;padding: 0;position: absolute;width: 1px;}#sk-container-id-2 div.sk-estimator {font-family: monospace;background-color: #f0f8ff;border: 1px dotted black;border-radius: 0.25em;box-sizing: border-box;margin-bottom: 0.5em;}#sk-container-id-2 div.sk-estimator:hover {background-color: #d4ebff;}#sk-container-id-2 div.sk-parallel-item::after {content: \"\";width: 100%;border-bottom: 1px solid gray;flex-grow: 1;}#sk-container-id-2 div.sk-label:hover label.sk-toggleable__label {background-color: #d4ebff;}#sk-container-id-2 div.sk-serial::before {content: \"\";position: absolute;border-left: 1px solid gray;box-sizing: border-box;top: 0;bottom: 0;left: 50%;z-index: 0;}#sk-container-id-2 div.sk-serial {display: flex;flex-direction: column;align-items: center;background-color: white;padding-right: 0.2em;padding-left: 0.2em;position: relative;}#sk-container-id-2 div.sk-item {position: relative;z-index: 1;}#sk-container-id-2 div.sk-parallel {display: flex;align-items: stretch;justify-content: center;background-color: white;position: relative;}#sk-container-id-2 div.sk-item::before, #sk-container-id-2 div.sk-parallel-item::before {content: \"\";position: absolute;border-left: 1px solid gray;box-sizing: border-box;top: 0;bottom: 0;left: 50%;z-index: -1;}#sk-container-id-2 div.sk-parallel-item {display: flex;flex-direction: column;z-index: 1;position: relative;background-color: white;}#sk-container-id-2 div.sk-parallel-item:first-child::after {align-self: flex-end;width: 50%;}#sk-container-id-2 div.sk-parallel-item:last-child::after {align-self: flex-start;width: 50%;}#sk-container-id-2 div.sk-parallel-item:only-child::after {width: 0;}#sk-container-id-2 div.sk-dashed-wrapped {border: 1px dashed gray;margin: 0 0.4em 0.5em 0.4em;box-sizing: border-box;padding-bottom: 0.4em;background-color: white;}#sk-container-id-2 div.sk-label label {font-family: monospace;font-weight: bold;display: inline-block;line-height: 1.2em;}#sk-container-id-2 div.sk-label-container {text-align: center;}#sk-container-id-2 div.sk-container {/* jupyter's `normalize.less` sets `[hidden] { display: none; }` but bootstrap.min.css set `[hidden] { display: none !important; }` so we also need the `!important` here to be able to override the default hidden behavior on the sphinx rendered scikit-learn.org. See: https://github.com/scikit-learn/scikit-learn/issues/21755 */display: inline-block !important;position: relative;}#sk-container-id-2 div.sk-text-repr-fallback {display: none;}</style><div id=\"sk-container-id-2\" class=\"sk-top-container\"><div class=\"sk-text-repr-fallback\"><pre>Pipeline(steps=[(&#x27;bow&#x27;,\n",
       "                 CountVectorizer(analyzer=&lt;function text_process at 0x0000022E5C370550&gt;)),\n",
       "                (&#x27;tfidf&#x27;, TfidfTransformer()), (&#x27;classifier&#x27;, SVC())])</pre><b>In a Jupyter environment, please rerun this cell to show the HTML representation or trust the notebook. <br />On GitHub, the HTML representation is unable to render, please try loading this page with nbviewer.org.</b></div><div class=\"sk-container\" hidden><div class=\"sk-item sk-dashed-wrapped\"><div class=\"sk-label-container\"><div class=\"sk-label sk-toggleable\"><input class=\"sk-toggleable__control sk-hidden--visually\" id=\"sk-estimator-id-2\" type=\"checkbox\" ><label for=\"sk-estimator-id-2\" class=\"sk-toggleable__label sk-toggleable__label-arrow\">Pipeline</label><div class=\"sk-toggleable__content\"><pre>Pipeline(steps=[(&#x27;bow&#x27;,\n",
       "                 CountVectorizer(analyzer=&lt;function text_process at 0x0000022E5C370550&gt;)),\n",
       "                (&#x27;tfidf&#x27;, TfidfTransformer()), (&#x27;classifier&#x27;, SVC())])</pre></div></div></div><div class=\"sk-serial\"><div class=\"sk-item\"><div class=\"sk-estimator sk-toggleable\"><input class=\"sk-toggleable__control sk-hidden--visually\" id=\"sk-estimator-id-3\" type=\"checkbox\" ><label for=\"sk-estimator-id-3\" class=\"sk-toggleable__label sk-toggleable__label-arrow\">CountVectorizer</label><div class=\"sk-toggleable__content\"><pre>CountVectorizer(analyzer=&lt;function text_process at 0x0000022E5C370550&gt;)</pre></div></div></div><div class=\"sk-item\"><div class=\"sk-estimator sk-toggleable\"><input class=\"sk-toggleable__control sk-hidden--visually\" id=\"sk-estimator-id-4\" type=\"checkbox\" ><label for=\"sk-estimator-id-4\" class=\"sk-toggleable__label sk-toggleable__label-arrow\">TfidfTransformer</label><div class=\"sk-toggleable__content\"><pre>TfidfTransformer()</pre></div></div></div><div class=\"sk-item\"><div class=\"sk-estimator sk-toggleable\"><input class=\"sk-toggleable__control sk-hidden--visually\" id=\"sk-estimator-id-5\" type=\"checkbox\" ><label for=\"sk-estimator-id-5\" class=\"sk-toggleable__label sk-toggleable__label-arrow\">SVC</label><div class=\"sk-toggleable__content\"><pre>SVC()</pre></div></div></div></div></div></div></div>"
      ],
      "text/plain": [
       "Pipeline(steps=[('bow',\n",
       "                 CountVectorizer(analyzer=<function text_process at 0x0000022E5C370550>)),\n",
       "                ('tfidf', TfidfTransformer()), ('classifier', SVC())])"
      ]
     },
     "execution_count": 35,
     "metadata": {},
     "output_type": "execute_result"
    }
   ],
   "source": [
    "pipeline.fit(msg_train, label_train)"
   ]
  },
  {
   "cell_type": "code",
   "execution_count": 36,
   "id": "e06a55b6",
   "metadata": {},
   "outputs": [
    {
     "data": {
      "text/plain": [
       "977        sport\n",
       "1877    business\n",
       "1226       sport\n",
       "195     politics\n",
       "748     politics\n",
       "          ...   \n",
       "2059    politics\n",
       "941         tech\n",
       "12      business\n",
       "388     business\n",
       "1902    politics\n",
       "Name: category, Length: 445, dtype: object"
      ]
     },
     "execution_count": 36,
     "metadata": {},
     "output_type": "execute_result"
    }
   ],
   "source": [
    "label_test"
   ]
  },
  {
   "cell_type": "code",
   "execution_count": 37,
   "id": "c1113440",
   "metadata": {
    "scrolled": true
   },
   "outputs": [
    {
     "name": "stdout",
     "output_type": "stream",
     "text": [
      "['sport' 'business' 'sport' 'politics' 'politics' 'business' 'sport'\n",
      " 'sport' 'politics' 'tech' 'business' 'tech' 'sport' 'politics' 'business'\n",
      " 'tech' 'entertainment' 'politics' 'politics' 'politics' 'sport' 'sport'\n",
      " 'business' 'business' 'business' 'politics' 'politics' 'entertainment'\n",
      " 'business' 'politics' 'politics' 'politics' 'tech' 'tech' 'sport' 'sport'\n",
      " 'politics' 'sport' 'sport' 'sport' 'politics' 'politics' 'business'\n",
      " 'business' 'sport' 'politics' 'politics' 'entertainment' 'business'\n",
      " 'business' 'business' 'tech' 'business' 'tech' 'sport' 'tech' 'tech'\n",
      " 'sport' 'entertainment' 'business' 'sport' 'sport' 'tech' 'sport'\n",
      " 'politics' 'business' 'entertainment' 'sport' 'politics' 'tech' 'sport'\n",
      " 'entertainment' 'business' 'entertainment' 'sport' 'tech' 'sport'\n",
      " 'politics' 'politics' 'politics' 'tech' 'politics' 'sport' 'politics'\n",
      " 'tech' 'politics' 'sport' 'sport' 'sport' 'politics' 'politics' 'tech'\n",
      " 'entertainment' 'entertainment' 'sport' 'tech' 'politics' 'entertainment'\n",
      " 'sport' 'politics' 'politics' 'sport' 'business' 'business' 'tech' 'tech'\n",
      " 'business' 'entertainment' 'sport' 'sport' 'tech' 'tech' 'sport'\n",
      " 'politics' 'tech' 'sport' 'politics' 'sport' 'business' 'politics' 'tech'\n",
      " 'sport' 'sport' 'politics' 'entertainment' 'politics' 'sport'\n",
      " 'entertainment' 'politics' 'tech' 'entertainment' 'business'\n",
      " 'entertainment' 'entertainment' 'entertainment' 'business' 'politics'\n",
      " 'entertainment' 'entertainment' 'sport' 'sport' 'business'\n",
      " 'entertainment' 'sport' 'tech' 'business' 'tech' 'entertainment'\n",
      " 'business' 'tech' 'politics' 'tech' 'business' 'sport' 'tech' 'politics'\n",
      " 'entertainment' 'sport' 'tech' 'entertainment' 'tech' 'business' 'tech'\n",
      " 'politics' 'sport' 'politics' 'entertainment' 'entertainment' 'business'\n",
      " 'sport' 'sport' 'business' 'tech' 'tech' 'business' 'business'\n",
      " 'entertainment' 'tech' 'sport' 'sport' 'sport' 'sport' 'sport' 'tech'\n",
      " 'politics' 'politics' 'business' 'sport' 'business' 'tech' 'tech'\n",
      " 'politics' 'sport' 'tech' 'entertainment' 'politics' 'business'\n",
      " 'politics' 'entertainment' 'business' 'sport' 'sport' 'politics'\n",
      " 'politics' 'entertainment' 'entertainment' 'entertainment' 'sport'\n",
      " 'entertainment' 'politics' 'tech' 'entertainment' 'entertainment' 'sport'\n",
      " 'politics' 'sport' 'entertainment' 'tech' 'business' 'business'\n",
      " 'business' 'sport' 'politics' 'business' 'entertainment' 'politics'\n",
      " 'business' 'business' 'business' 'tech' 'tech' 'tech' 'entertainment'\n",
      " 'tech' 'politics' 'business' 'politics' 'sport' 'politics' 'business'\n",
      " 'politics' 'business' 'business' 'entertainment' 'politics' 'sport'\n",
      " 'tech' 'entertainment' 'business' 'entertainment' 'tech' 'politics'\n",
      " 'sport' 'sport' 'entertainment' 'sport' 'sport' 'politics' 'sport'\n",
      " 'entertainment' 'politics' 'business' 'business' 'sport' 'sport'\n",
      " 'business' 'tech' 'entertainment' 'sport' 'politics' 'entertainment'\n",
      " 'business' 'sport' 'entertainment' 'sport' 'sport' 'politics' 'business'\n",
      " 'entertainment' 'business' 'business' 'sport' 'tech' 'business'\n",
      " 'entertainment' 'business' 'tech' 'business' 'sport' 'tech' 'sport'\n",
      " 'entertainment' 'tech' 'sport' 'business' 'politics' 'business'\n",
      " 'politics' 'business' 'sport' 'entertainment' 'entertainment' 'business'\n",
      " 'sport' 'sport' 'politics' 'tech' 'sport' 'tech' 'tech' 'sport'\n",
      " 'politics' 'sport' 'sport' 'business' 'sport' 'business' 'business'\n",
      " 'tech' 'sport' 'tech' 'politics' 'sport' 'politics' 'entertainment'\n",
      " 'sport' 'business' 'business' 'business' 'tech' 'business' 'sport'\n",
      " 'sport' 'business' 'entertainment' 'business' 'politics' 'sport'\n",
      " 'business' 'entertainment' 'sport' 'politics' 'tech' 'business'\n",
      " 'business' 'tech' 'entertainment' 'sport' 'sport' 'business'\n",
      " 'entertainment' 'sport' 'sport' 'business' 'business' 'sport' 'sport'\n",
      " 'business' 'business' 'politics' 'business' 'politics' 'sport' 'sport'\n",
      " 'business' 'entertainment' 'politics' 'tech' 'tech' 'sport' 'business'\n",
      " 'sport' 'sport' 'business' 'sport' 'business' 'entertainment' 'sport'\n",
      " 'sport' 'sport' 'politics' 'business' 'tech' 'sport' 'politics' 'sport'\n",
      " 'sport' 'tech' 'entertainment' 'business' 'sport' 'entertainment'\n",
      " 'business' 'tech' 'entertainment' 'entertainment' 'sport' 'entertainment'\n",
      " 'tech' 'sport' 'business' 'sport' 'politics' 'sport' 'entertainment'\n",
      " 'sport' 'business' 'business' 'entertainment' 'entertainment' 'business'\n",
      " 'tech' 'politics' 'tech' 'business' 'politics' 'entertainment' 'sport'\n",
      " 'business' 'politics' 'sport' 'sport' 'politics' 'entertainment'\n",
      " 'entertainment' 'entertainment' 'tech' 'tech' 'tech' 'business'\n",
      " 'business' 'entertainment' 'tech' 'sport' 'tech' 'business' 'sport'\n",
      " 'tech' 'sport' 'tech' 'politics' 'tech' 'business' 'business' 'politics']\n"
     ]
    }
   ],
   "source": [
    "predictions = pipeline.predict(msg_test)\n",
    "print(predictions)"
   ]
  },
  {
   "cell_type": "markdown",
   "id": "63ac165f",
   "metadata": {},
   "source": [
    "# Metric accuracy"
   ]
  },
  {
   "cell_type": "code",
   "execution_count": 55,
   "id": "b684c935",
   "metadata": {},
   "outputs": [
    {
     "name": "stdout",
     "output_type": "stream",
     "text": [
      "Accuracy: 0.9707865168539326\n"
     ]
    }
   ],
   "source": [
    "print(\"Accuracy:\",metrics.accuracy_score(predictions,label_test))"
   ]
  },
  {
   "cell_type": "markdown",
   "id": "c34b425e",
   "metadata": {},
   "source": [
    "# Classification report"
   ]
  },
  {
   "cell_type": "code",
   "execution_count": 56,
   "id": "0be7e246",
   "metadata": {
    "scrolled": true
   },
   "outputs": [
    {
     "name": "stdout",
     "output_type": "stream",
     "text": [
      "               precision    recall  f1-score   support\n",
      "\n",
      "     business       0.99      0.92      0.95        98\n",
      "entertainment       0.97      0.99      0.98        70\n",
      "     politics       0.93      0.99      0.96        82\n",
      "        sport       1.00      1.00      1.00       120\n",
      "         tech       0.95      0.96      0.95        75\n",
      "\n",
      "     accuracy                           0.97       445\n",
      "    macro avg       0.97      0.97      0.97       445\n",
      " weighted avg       0.97      0.97      0.97       445\n",
      "\n"
     ]
    }
   ],
   "source": [
    "print(classification_report(predictions, label_test))"
   ]
  },
  {
   "cell_type": "markdown",
   "id": "a97ecfed",
   "metadata": {},
   "source": [
    "# Confusion Matrix\n",
    "\n",
    "Confusion Matrix is going to contain the correct predictions that our model made on the set as well as the incorrect predictions."
   ]
  },
  {
   "cell_type": "code",
   "execution_count": 57,
   "id": "6aca580c",
   "metadata": {},
   "outputs": [
    {
     "data": {
      "text/plain": [
       "Text(0.5, 427.9555555555555, 'Predicted label')"
      ]
     },
     "execution_count": 57,
     "metadata": {},
     "output_type": "execute_result"
    },
    {
     "data": {
      "image/png": "[encoded data removed]",
      "text/plain": [
       "<Figure size 640x480 with 2 Axes>"
      ]
     },
     "metadata": {},
     "output_type": "display_data"
    }
   ],
   "source": [
    "cm = confusion_matrix(label_test,predictions)\n",
    "class_names=[0,1] # name  of classes\n",
    "fig, ax = plt.subplots()\n",
    "tick_marks = np.arange(len(class_names))\n",
    "plt.xticks(tick_marks, class_names)\n",
    "plt.yticks(tick_marks, class_names)\n",
    "\n",
    "# create heatmap\n",
    "sns.heatmap(pd.DataFrame(cm), annot=True, cmap=\"BuPu\" ,fmt='g')\n",
    "ax.xaxis.set_label_position(\"top\")\n",
    "plt.tight_layout()\n",
    "plt.title('Confusion matrix', y=1.1)\n",
    "plt.ylabel('Actual label')\n",
    "plt.xlabel('Predicted label')"
   ]
  },
  {
   "cell_type": "code",
   "execution_count": 58,
   "id": "d87ec5d7",
   "metadata": {
    "scrolled": true
   },
   "outputs": [
    {
     "data": {
      "text/plain": [
       "{'business', 'entertainment', 'politics', 'sport', 'tech'}"
      ]
     },
     "execution_count": 58,
     "metadata": {},
     "output_type": "execute_result"
    }
   ],
   "source": [
    "set(df['category'])"
   ]
  },
  {
   "cell_type": "markdown",
   "id": "64326730",
   "metadata": {},
   "source": [
    "# for Random Forest"
   ]
  },
  {
   "cell_type": "code",
   "execution_count": 59,
   "id": "ba881425",
   "metadata": {},
   "outputs": [],
   "source": [
    "pipeline2 = Pipeline([\n",
    "    ('bow', CountVectorizer(analyzer=text_process)), # strings to token integer counts\n",
    "    ('tfidf', TfidfTransformer()), # integer counts to weighted TF-IDF scores\n",
    "    ('classifier', RandomForestClassifier()) #train on TF-IDF vectors w/\n",
    "])"
   ]
  },
  {
   "cell_type": "code",
   "execution_count": 53,
   "id": "d59e7029",
   "metadata": {},
   "outputs": [
    {
     "data": {
      "text/html": [
       "<style>#sk-container-id-4 {color: black;background-color: white;}#sk-container-id-4 pre{padding: 0;}#sk-container-id-4 div.sk-toggleable {background-color: white;}#sk-container-id-4 label.sk-toggleable__label {cursor: pointer;display: block;width: 100%;margin-bottom: 0;padding: 0.3em;box-sizing: border-box;text-align: center;}#sk-container-id-4 label.sk-toggleable__label-arrow:before {content: \"▸\";float: left;margin-right: 0.25em;color: #696969;}#sk-container-id-4 label.sk-toggleable__label-arrow:hover:before {color: black;}#sk-container-id-4 div.sk-estimator:hover label.sk-toggleable__label-arrow:before {color: black;}#sk-container-id-4 div.sk-toggleable__content {max-height: 0;max-width: 0;overflow: hidden;text-align: left;background-color: #f0f8ff;}#sk-container-id-4 div.sk-toggleable__content pre {margin: 0.2em;color: black;border-radius: 0.25em;background-color: #f0f8ff;}#sk-container-id-4 input.sk-toggleable__control:checked~div.sk-toggleable__content {max-height: 200px;max-width: 100%;overflow: auto;}#sk-container-id-4 input.sk-toggleable__control:checked~label.sk-toggleable__label-arrow:before {content: \"▾\";}#sk-container-id-4 div.sk-estimator input.sk-toggleable__control:checked~label.sk-toggleable__label {background-color: #d4ebff;}#sk-container-id-4 div.sk-label input.sk-toggleable__control:checked~label.sk-toggleable__label {background-color: #d4ebff;}#sk-container-id-4 input.sk-hidden--visually {border: 0;clip: rect(1px 1px 1px 1px);clip: rect(1px, 1px, 1px, 1px);height: 1px;margin: -1px;overflow: hidden;padding: 0;position: absolute;width: 1px;}#sk-container-id-4 div.sk-estimator {font-family: monospace;background-color: #f0f8ff;border: 1px dotted black;border-radius: 0.25em;box-sizing: border-box;margin-bottom: 0.5em;}#sk-container-id-4 div.sk-estimator:hover {background-color: #d4ebff;}#sk-container-id-4 div.sk-parallel-item::after {content: \"\";width: 100%;border-bottom: 1px solid gray;flex-grow: 1;}#sk-container-id-4 div.sk-label:hover label.sk-toggleable__label {background-color: #d4ebff;}#sk-container-id-4 div.sk-serial::before {content: \"\";position: absolute;border-left: 1px solid gray;box-sizing: border-box;top: 0;bottom: 0;left: 50%;z-index: 0;}#sk-container-id-4 div.sk-serial {display: flex;flex-direction: column;align-items: center;background-color: white;padding-right: 0.2em;padding-left: 0.2em;position: relative;}#sk-container-id-4 div.sk-item {position: relative;z-index: 1;}#sk-container-id-4 div.sk-parallel {display: flex;align-items: stretch;justify-content: center;background-color: white;position: relative;}#sk-container-id-4 div.sk-item::before, #sk-container-id-4 div.sk-parallel-item::before {content: \"\";position: absolute;border-left: 1px solid gray;box-sizing: border-box;top: 0;bottom: 0;left: 50%;z-index: -1;}#sk-container-id-4 div.sk-parallel-item {display: flex;flex-direction: column;z-index: 1;position: relative;background-color: white;}#sk-container-id-4 div.sk-parallel-item:first-child::after {align-self: flex-end;width: 50%;}#sk-container-id-4 div.sk-parallel-item:last-child::after {align-self: flex-start;width: 50%;}#sk-container-id-4 div.sk-parallel-item:only-child::after {width: 0;}#sk-container-id-4 div.sk-dashed-wrapped {border: 1px dashed gray;margin: 0 0.4em 0.5em 0.4em;box-sizing: border-box;padding-bottom: 0.4em;background-color: white;}#sk-container-id-4 div.sk-label label {font-family: monospace;font-weight: bold;display: inline-block;line-height: 1.2em;}#sk-container-id-4 div.sk-label-container {text-align: center;}#sk-container-id-4 div.sk-container {/* jupyter's `normalize.less` sets `[hidden] { display: none; }` but bootstrap.min.css set `[hidden] { display: none !important; }` so we also need the `!important` here to be able to override the default hidden behavior on the sphinx rendered scikit-learn.org. See: https://github.com/scikit-learn/scikit-learn/issues/21755 */display: inline-block !important;position: relative;}#sk-container-id-4 div.sk-text-repr-fallback {display: none;}</style><div id=\"sk-container-id-4\" class=\"sk-top-container\"><div class=\"sk-text-repr-fallback\"><pre>Pipeline(steps=[(&#x27;bow&#x27;,\n",
       "                 CountVectorizer(analyzer=&lt;function text_process at 0x0000022E5C370550&gt;)),\n",
       "                (&#x27;tfidf&#x27;, TfidfTransformer()),\n",
       "                (&#x27;classifier&#x27;, RandomForestClassifier())])</pre><b>In a Jupyter environment, please rerun this cell to show the HTML representation or trust the notebook. <br />On GitHub, the HTML representation is unable to render, please try loading this page with nbviewer.org.</b></div><div class=\"sk-container\" hidden><div class=\"sk-item sk-dashed-wrapped\"><div class=\"sk-label-container\"><div class=\"sk-label sk-toggleable\"><input class=\"sk-toggleable__control sk-hidden--visually\" id=\"sk-estimator-id-10\" type=\"checkbox\" ><label for=\"sk-estimator-id-10\" class=\"sk-toggleable__label sk-toggleable__label-arrow\">Pipeline</label><div class=\"sk-toggleable__content\"><pre>Pipeline(steps=[(&#x27;bow&#x27;,\n",
       "                 CountVectorizer(analyzer=&lt;function text_process at 0x0000022E5C370550&gt;)),\n",
       "                (&#x27;tfidf&#x27;, TfidfTransformer()),\n",
       "                (&#x27;classifier&#x27;, RandomForestClassifier())])</pre></div></div></div><div class=\"sk-serial\"><div class=\"sk-item\"><div class=\"sk-estimator sk-toggleable\"><input class=\"sk-toggleable__control sk-hidden--visually\" id=\"sk-estimator-id-11\" type=\"checkbox\" ><label for=\"sk-estimator-id-11\" class=\"sk-toggleable__label sk-toggleable__label-arrow\">CountVectorizer</label><div class=\"sk-toggleable__content\"><pre>CountVectorizer(analyzer=&lt;function text_process at 0x0000022E5C370550&gt;)</pre></div></div></div><div class=\"sk-item\"><div class=\"sk-estimator sk-toggleable\"><input class=\"sk-toggleable__control sk-hidden--visually\" id=\"sk-estimator-id-12\" type=\"checkbox\" ><label for=\"sk-estimator-id-12\" class=\"sk-toggleable__label sk-toggleable__label-arrow\">TfidfTransformer</label><div class=\"sk-toggleable__content\"><pre>TfidfTransformer()</pre></div></div></div><div class=\"sk-item\"><div class=\"sk-estimator sk-toggleable\"><input class=\"sk-toggleable__control sk-hidden--visually\" id=\"sk-estimator-id-13\" type=\"checkbox\" ><label for=\"sk-estimator-id-13\" class=\"sk-toggleable__label sk-toggleable__label-arrow\">RandomForestClassifier</label><div class=\"sk-toggleable__content\"><pre>RandomForestClassifier()</pre></div></div></div></div></div></div></div>"
      ],
      "text/plain": [
       "Pipeline(steps=[('bow',\n",
       "                 CountVectorizer(analyzer=<function text_process at 0x0000022E5C370550>)),\n",
       "                ('tfidf', TfidfTransformer()),\n",
       "                ('classifier', RandomForestClassifier())])"
      ]
     },
     "execution_count": 53,
     "metadata": {},
     "output_type": "execute_result"
    }
   ],
   "source": [
    "pipeline2.fit(msg_train, label_train)"
   ]
  },
  {
   "cell_type": "code",
   "execution_count": 54,
   "id": "ce95ce16",
   "metadata": {
    "scrolled": true
   },
   "outputs": [
    {
     "name": "stdout",
     "output_type": "stream",
     "text": [
      "['sport' 'business' 'sport' 'entertainment' 'politics' 'business' 'sport'\n",
      " 'sport' 'politics' 'tech' 'business' 'tech' 'sport' 'politics' 'business'\n",
      " 'tech' 'entertainment' 'politics' 'politics' 'politics' 'sport' 'sport'\n",
      " 'business' 'business' 'business' 'politics' 'politics' 'entertainment'\n",
      " 'business' 'politics' 'politics' 'politics' 'tech' 'tech' 'sport' 'sport'\n",
      " 'politics' 'sport' 'sport' 'sport' 'politics' 'politics' 'business'\n",
      " 'business' 'sport' 'politics' 'politics' 'entertainment' 'business'\n",
      " 'business' 'business' 'tech' 'business' 'tech' 'sport' 'tech' 'tech'\n",
      " 'sport' 'entertainment' 'business' 'sport' 'sport' 'tech' 'sport'\n",
      " 'politics' 'business' 'entertainment' 'sport' 'politics' 'sport' 'sport'\n",
      " 'entertainment' 'business' 'entertainment' 'sport' 'tech' 'sport'\n",
      " 'politics' 'politics' 'politics' 'sport' 'politics' 'sport' 'politics'\n",
      " 'tech' 'politics' 'sport' 'sport' 'sport' 'politics' 'politics'\n",
      " 'entertainment' 'entertainment' 'entertainment' 'sport' 'tech' 'politics'\n",
      " 'entertainment' 'sport' 'politics' 'politics' 'sport' 'business'\n",
      " 'business' 'tech' 'tech' 'business' 'entertainment' 'sport' 'sport'\n",
      " 'tech' 'tech' 'sport' 'politics' 'tech' 'sport' 'politics' 'sport'\n",
      " 'business' 'politics' 'tech' 'sport' 'sport' 'politics' 'entertainment'\n",
      " 'politics' 'sport' 'entertainment' 'politics' 'tech' 'entertainment'\n",
      " 'politics' 'entertainment' 'politics' 'entertainment' 'business'\n",
      " 'politics' 'entertainment' 'entertainment' 'sport' 'sport' 'business'\n",
      " 'entertainment' 'sport' 'tech' 'business' 'tech' 'tech' 'business' 'tech'\n",
      " 'politics' 'tech' 'business' 'sport' 'tech' 'politics' 'entertainment'\n",
      " 'sport' 'tech' 'entertainment' 'tech' 'business' 'tech' 'politics'\n",
      " 'sport' 'politics' 'business' 'entertainment' 'business' 'sport' 'sport'\n",
      " 'business' 'sport' 'tech' 'business' 'business' 'entertainment' 'tech'\n",
      " 'sport' 'sport' 'sport' 'sport' 'sport' 'tech' 'politics' 'politics'\n",
      " 'business' 'sport' 'business' 'tech' 'tech' 'politics' 'sport' 'tech'\n",
      " 'entertainment' 'politics' 'business' 'politics' 'entertainment'\n",
      " 'politics' 'sport' 'sport' 'politics' 'politics' 'business' 'business'\n",
      " 'entertainment' 'sport' 'entertainment' 'politics' 'tech' 'entertainment'\n",
      " 'entertainment' 'sport' 'politics' 'sport' 'entertainment' 'tech'\n",
      " 'business' 'business' 'business' 'sport' 'politics' 'business'\n",
      " 'entertainment' 'politics' 'business' 'business' 'business' 'tech' 'tech'\n",
      " 'tech' 'entertainment' 'tech' 'politics' 'business' 'politics' 'sport'\n",
      " 'politics' 'business' 'politics' 'business' 'business' 'entertainment'\n",
      " 'politics' 'sport' 'tech' 'entertainment' 'business' 'entertainment'\n",
      " 'tech' 'politics' 'sport' 'sport' 'entertainment' 'sport' 'sport'\n",
      " 'politics' 'sport' 'entertainment' 'politics' 'business' 'business'\n",
      " 'sport' 'sport' 'business' 'tech' 'entertainment' 'sport' 'politics'\n",
      " 'entertainment' 'business' 'sport' 'entertainment' 'sport' 'sport'\n",
      " 'politics' 'business' 'tech' 'business' 'business' 'business' 'tech'\n",
      " 'business' 'entertainment' 'business' 'tech' 'business' 'sport' 'tech'\n",
      " 'sport' 'entertainment' 'tech' 'sport' 'business' 'politics' 'business'\n",
      " 'politics' 'politics' 'sport' 'entertainment' 'entertainment' 'business'\n",
      " 'sport' 'sport' 'politics' 'tech' 'sport' 'tech' 'tech' 'sport'\n",
      " 'politics' 'sport' 'sport' 'business' 'sport' 'business' 'business'\n",
      " 'tech' 'sport' 'tech' 'politics' 'sport' 'politics' 'entertainment'\n",
      " 'sport' 'business' 'business' 'business' 'tech' 'business' 'sport'\n",
      " 'sport' 'business' 'entertainment' 'business' 'politics' 'sport'\n",
      " 'business' 'entertainment' 'sport' 'politics' 'tech' 'business'\n",
      " 'business' 'tech' 'entertainment' 'sport' 'sport' 'business' 'business'\n",
      " 'sport' 'sport' 'business' 'business' 'sport' 'sport' 'business'\n",
      " 'business' 'politics' 'business' 'politics' 'sport' 'sport' 'business'\n",
      " 'entertainment' 'politics' 'tech' 'tech' 'sport' 'business' 'sport'\n",
      " 'sport' 'business' 'sport' 'business' 'entertainment' 'sport' 'sport'\n",
      " 'sport' 'politics' 'business' 'tech' 'sport' 'politics' 'sport' 'sport'\n",
      " 'tech' 'entertainment' 'business' 'sport' 'entertainment' 'business'\n",
      " 'tech' 'entertainment' 'entertainment' 'sport' 'entertainment' 'tech'\n",
      " 'sport' 'business' 'sport' 'politics' 'sport' 'entertainment' 'sport'\n",
      " 'tech' 'business' 'entertainment' 'entertainment' 'business' 'tech'\n",
      " 'politics' 'tech' 'business' 'politics' 'entertainment' 'sport'\n",
      " 'business' 'politics' 'sport' 'sport' 'politics' 'entertainment'\n",
      " 'entertainment' 'entertainment' 'entertainment' 'tech' 'tech' 'business'\n",
      " 'business' 'entertainment' 'tech' 'sport' 'tech' 'business' 'sport'\n",
      " 'tech' 'sport' 'tech' 'politics' 'tech' 'business' 'business' 'politics']\n"
     ]
    }
   ],
   "source": [
    "predictions2 = pipeline2.predict(msg_test)\n",
    "print(predictions2)"
   ]
  },
  {
   "cell_type": "code",
   "execution_count": 49,
   "id": "ebb8aaa4",
   "metadata": {},
   "outputs": [
    {
     "name": "stdout",
     "output_type": "stream",
     "text": [
      "Accuracy: 0.9573033707865168\n"
     ]
    }
   ],
   "source": [
    "print(\"Accuracy:\",metrics.accuracy_score(predictions2,label_test))"
   ]
  },
  {
   "cell_type": "code",
   "execution_count": 50,
   "id": "fdb32142",
   "metadata": {},
   "outputs": [
    {
     "name": "stdout",
     "output_type": "stream",
     "text": [
      "               precision    recall  f1-score   support\n",
      "\n",
      "     business       0.99      0.89      0.94       101\n",
      "entertainment       0.90      0.98      0.94        65\n",
      "     politics       0.95      0.98      0.97        85\n",
      "        sport       0.99      0.98      0.99       121\n",
      "         tech       0.92      0.96      0.94        73\n",
      "\n",
      "     accuracy                           0.96       445\n",
      "    macro avg       0.95      0.96      0.95       445\n",
      " weighted avg       0.96      0.96      0.96       445\n",
      "\n"
     ]
    }
   ],
   "source": [
    "#Classification Report \n",
    "print(classification_report(predictions2, label_test))"
   ]
  },
  {
   "cell_type": "code",
   "execution_count": 51,
   "id": "3db1ed00",
   "metadata": {},
   "outputs": [
    {
     "data": {
      "text/plain": [
       "Text(0.5, 427.9555555555555, 'Predicted label')"
      ]
     },
     "execution_count": 51,
     "metadata": {},
     "output_type": "execute_result"
    },
    {
     "data": {
      "image/png": "[encoded data removed]",
      "text/plain": [
       "<Figure size 640x480 with 2 Axes>"
      ]
     },
     "metadata": {},
     "output_type": "display_data"
    }
   ],
   "source": [
    "# Confusion Matrix\n",
    "cm = confusion_matrix(label_test,predictions2)\n",
    "class_names=[0,1] # name  of classes\n",
    "fig, ax = plt.subplots()\n",
    "tick_marks = np.arange(len(class_names))\n",
    "plt.xticks(tick_marks, class_names)\n",
    "plt.yticks(tick_marks, class_names)\n",
    "\n",
    "# create heatmap\n",
    "sns.heatmap(pd.DataFrame(cm), annot=True, cmap=\"BuPu\" ,fmt='g')\n",
    "ax.xaxis.set_label_position(\"top\")\n",
    "plt.tight_layout()\n",
    "plt.title('Confusion matrix', y=1.1)\n",
    "plt.ylabel('Actual label')\n",
    "plt.xlabel('Predicted label')"
   ]
  },
  {
   "cell_type": "markdown",
   "id": "b3e6a555",
   "metadata": {},
   "source": [
    "# for Naive Bayes"
   ]
  },
  {
   "cell_type": "code",
   "execution_count": 68,
   "id": "7cc9b022",
   "metadata": {},
   "outputs": [],
   "source": [
    "from sklearn.naive_bayes import MultinomialNB\n",
    "pipeline3 = Pipeline([\n",
    "    ('bow', CountVectorizer(analyzer=text_process)), # strings to token integer counts\n",
    "    ('tfidf', TfidfTransformer()), # integer counts to weighted TF-IDF scores\n",
    "    ('classifier', MultinomialNB()) #train on TF-IDF vectors w/\n",
    "])"
   ]
  },
  {
   "cell_type": "code",
   "execution_count": 70,
   "id": "ed925ed4",
   "metadata": {},
   "outputs": [
    {
     "data": {
      "text/html": [
       "<style>#sk-container-id-5 {color: black;background-color: white;}#sk-container-id-5 pre{padding: 0;}#sk-container-id-5 div.sk-toggleable {background-color: white;}#sk-container-id-5 label.sk-toggleable__label {cursor: pointer;display: block;width: 100%;margin-bottom: 0;padding: 0.3em;box-sizing: border-box;text-align: center;}#sk-container-id-5 label.sk-toggleable__label-arrow:before {content: \"▸\";float: left;margin-right: 0.25em;color: #696969;}#sk-container-id-5 label.sk-toggleable__label-arrow:hover:before {color: black;}#sk-container-id-5 div.sk-estimator:hover label.sk-toggleable__label-arrow:before {color: black;}#sk-container-id-5 div.sk-toggleable__content {max-height: 0;max-width: 0;overflow: hidden;text-align: left;background-color: #f0f8ff;}#sk-container-id-5 div.sk-toggleable__content pre {margin: 0.2em;color: black;border-radius: 0.25em;background-color: #f0f8ff;}#sk-container-id-5 input.sk-toggleable__control:checked~div.sk-toggleable__content {max-height: 200px;max-width: 100%;overflow: auto;}#sk-container-id-5 input.sk-toggleable__control:checked~label.sk-toggleable__label-arrow:before {content: \"▾\";}#sk-container-id-5 div.sk-estimator input.sk-toggleable__control:checked~label.sk-toggleable__label {background-color: #d4ebff;}#sk-container-id-5 div.sk-label input.sk-toggleable__control:checked~label.sk-toggleable__label {background-color: #d4ebff;}#sk-container-id-5 input.sk-hidden--visually {border: 0;clip: rect(1px 1px 1px 1px);clip: rect(1px, 1px, 1px, 1px);height: 1px;margin: -1px;overflow: hidden;padding: 0;position: absolute;width: 1px;}#sk-container-id-5 div.sk-estimator {font-family: monospace;background-color: #f0f8ff;border: 1px dotted black;border-radius: 0.25em;box-sizing: border-box;margin-bottom: 0.5em;}#sk-container-id-5 div.sk-estimator:hover {background-color: #d4ebff;}#sk-container-id-5 div.sk-parallel-item::after {content: \"\";width: 100%;border-bottom: 1px solid gray;flex-grow: 1;}#sk-container-id-5 div.sk-label:hover label.sk-toggleable__label {background-color: #d4ebff;}#sk-container-id-5 div.sk-serial::before {content: \"\";position: absolute;border-left: 1px solid gray;box-sizing: border-box;top: 0;bottom: 0;left: 50%;z-index: 0;}#sk-container-id-5 div.sk-serial {display: flex;flex-direction: column;align-items: center;background-color: white;padding-right: 0.2em;padding-left: 0.2em;position: relative;}#sk-container-id-5 div.sk-item {position: relative;z-index: 1;}#sk-container-id-5 div.sk-parallel {display: flex;align-items: stretch;justify-content: center;background-color: white;position: relative;}#sk-container-id-5 div.sk-item::before, #sk-container-id-5 div.sk-parallel-item::before {content: \"\";position: absolute;border-left: 1px solid gray;box-sizing: border-box;top: 0;bottom: 0;left: 50%;z-index: -1;}#sk-container-id-5 div.sk-parallel-item {display: flex;flex-direction: column;z-index: 1;position: relative;background-color: white;}#sk-container-id-5 div.sk-parallel-item:first-child::after {align-self: flex-end;width: 50%;}#sk-container-id-5 div.sk-parallel-item:last-child::after {align-self: flex-start;width: 50%;}#sk-container-id-5 div.sk-parallel-item:only-child::after {width: 0;}#sk-container-id-5 div.sk-dashed-wrapped {border: 1px dashed gray;margin: 0 0.4em 0.5em 0.4em;box-sizing: border-box;padding-bottom: 0.4em;background-color: white;}#sk-container-id-5 div.sk-label label {font-family: monospace;font-weight: bold;display: inline-block;line-height: 1.2em;}#sk-container-id-5 div.sk-label-container {text-align: center;}#sk-container-id-5 div.sk-container {/* jupyter's `normalize.less` sets `[hidden] { display: none; }` but bootstrap.min.css set `[hidden] { display: none !important; }` so we also need the `!important` here to be able to override the default hidden behavior on the sphinx rendered scikit-learn.org. See: https://github.com/scikit-learn/scikit-learn/issues/21755 */display: inline-block !important;position: relative;}#sk-container-id-5 div.sk-text-repr-fallback {display: none;}</style><div id=\"sk-container-id-5\" class=\"sk-top-container\"><div class=\"sk-text-repr-fallback\"><pre>Pipeline(steps=[(&#x27;bow&#x27;,\n",
       "                 CountVectorizer(analyzer=&lt;function text_process at 0x0000022E5C370550&gt;)),\n",
       "                (&#x27;tfidf&#x27;, TfidfTransformer()),\n",
       "                (&#x27;classifier&#x27;, MultinomialNB())])</pre><b>In a Jupyter environment, please rerun this cell to show the HTML representation or trust the notebook. <br />On GitHub, the HTML representation is unable to render, please try loading this page with nbviewer.org.</b></div><div class=\"sk-container\" hidden><div class=\"sk-item sk-dashed-wrapped\"><div class=\"sk-label-container\"><div class=\"sk-label sk-toggleable\"><input class=\"sk-toggleable__control sk-hidden--visually\" id=\"sk-estimator-id-14\" type=\"checkbox\" ><label for=\"sk-estimator-id-14\" class=\"sk-toggleable__label sk-toggleable__label-arrow\">Pipeline</label><div class=\"sk-toggleable__content\"><pre>Pipeline(steps=[(&#x27;bow&#x27;,\n",
       "                 CountVectorizer(analyzer=&lt;function text_process at 0x0000022E5C370550&gt;)),\n",
       "                (&#x27;tfidf&#x27;, TfidfTransformer()),\n",
       "                (&#x27;classifier&#x27;, MultinomialNB())])</pre></div></div></div><div class=\"sk-serial\"><div class=\"sk-item\"><div class=\"sk-estimator sk-toggleable\"><input class=\"sk-toggleable__control sk-hidden--visually\" id=\"sk-estimator-id-15\" type=\"checkbox\" ><label for=\"sk-estimator-id-15\" class=\"sk-toggleable__label sk-toggleable__label-arrow\">CountVectorizer</label><div class=\"sk-toggleable__content\"><pre>CountVectorizer(analyzer=&lt;function text_process at 0x0000022E5C370550&gt;)</pre></div></div></div><div class=\"sk-item\"><div class=\"sk-estimator sk-toggleable\"><input class=\"sk-toggleable__control sk-hidden--visually\" id=\"sk-estimator-id-16\" type=\"checkbox\" ><label for=\"sk-estimator-id-16\" class=\"sk-toggleable__label sk-toggleable__label-arrow\">TfidfTransformer</label><div class=\"sk-toggleable__content\"><pre>TfidfTransformer()</pre></div></div></div><div class=\"sk-item\"><div class=\"sk-estimator sk-toggleable\"><input class=\"sk-toggleable__control sk-hidden--visually\" id=\"sk-estimator-id-17\" type=\"checkbox\" ><label for=\"sk-estimator-id-17\" class=\"sk-toggleable__label sk-toggleable__label-arrow\">MultinomialNB</label><div class=\"sk-toggleable__content\"><pre>MultinomialNB()</pre></div></div></div></div></div></div></div>"
      ],
      "text/plain": [
       "Pipeline(steps=[('bow',\n",
       "                 CountVectorizer(analyzer=<function text_process at 0x0000022E5C370550>)),\n",
       "                ('tfidf', TfidfTransformer()),\n",
       "                ('classifier', MultinomialNB())])"
      ]
     },
     "execution_count": 70,
     "metadata": {},
     "output_type": "execute_result"
    }
   ],
   "source": [
    "pipeline3.fit(msg_train, label_train)"
   ]
  },
  {
   "cell_type": "code",
   "execution_count": 71,
   "id": "6171c753",
   "metadata": {
    "scrolled": true
   },
   "outputs": [
    {
     "name": "stdout",
     "output_type": "stream",
     "text": [
      "['sport' 'business' 'sport' 'politics' 'politics' 'business' 'sport'\n",
      " 'sport' 'politics' 'tech' 'business' 'tech' 'sport' 'politics' 'business'\n",
      " 'tech' 'entertainment' 'politics' 'politics' 'politics' 'sport' 'sport'\n",
      " 'business' 'tech' 'business' 'politics' 'politics' 'entertainment'\n",
      " 'business' 'politics' 'politics' 'politics' 'tech' 'tech' 'sport' 'sport'\n",
      " 'politics' 'sport' 'sport' 'sport' 'politics' 'politics' 'business'\n",
      " 'business' 'sport' 'politics' 'politics' 'entertainment' 'business'\n",
      " 'business' 'tech' 'tech' 'business' 'tech' 'sport' 'tech' 'tech' 'sport'\n",
      " 'entertainment' 'business' 'sport' 'sport' 'tech' 'sport' 'politics'\n",
      " 'business' 'entertainment' 'sport' 'politics' 'tech' 'sport'\n",
      " 'entertainment' 'business' 'entertainment' 'sport' 'tech' 'sport'\n",
      " 'politics' 'politics' 'politics' 'tech' 'politics' 'sport' 'politics'\n",
      " 'tech' 'politics' 'sport' 'sport' 'sport' 'politics' 'politics'\n",
      " 'entertainment' 'entertainment' 'entertainment' 'sport' 'tech' 'politics'\n",
      " 'entertainment' 'sport' 'politics' 'politics' 'sport' 'business'\n",
      " 'business' 'tech' 'tech' 'business' 'entertainment' 'sport' 'sport'\n",
      " 'tech' 'tech' 'sport' 'politics' 'tech' 'sport' 'politics' 'sport'\n",
      " 'business' 'politics' 'tech' 'sport' 'sport' 'politics' 'entertainment'\n",
      " 'politics' 'sport' 'entertainment' 'politics' 'tech' 'entertainment'\n",
      " 'business' 'entertainment' 'entertainment' 'entertainment' 'business'\n",
      " 'politics' 'entertainment' 'entertainment' 'sport' 'sport' 'business'\n",
      " 'entertainment' 'sport' 'tech' 'business' 'tech' 'tech' 'business' 'tech'\n",
      " 'politics' 'tech' 'politics' 'sport' 'tech' 'politics' 'entertainment'\n",
      " 'sport' 'sport' 'entertainment' 'tech' 'business' 'tech' 'politics'\n",
      " 'sport' 'politics' 'entertainment' 'entertainment' 'business' 'sport'\n",
      " 'sport' 'business' 'tech' 'tech' 'business' 'business' 'entertainment'\n",
      " 'tech' 'sport' 'sport' 'sport' 'sport' 'sport' 'tech' 'politics'\n",
      " 'politics' 'business' 'sport' 'business' 'tech' 'tech' 'politics' 'sport'\n",
      " 'tech' 'entertainment' 'politics' 'business' 'politics' 'entertainment'\n",
      " 'politics' 'sport' 'sport' 'politics' 'politics' 'business' 'politics'\n",
      " 'entertainment' 'sport' 'entertainment' 'politics' 'tech' 'entertainment'\n",
      " 'entertainment' 'sport' 'politics' 'sport' 'entertainment' 'tech'\n",
      " 'business' 'business' 'business' 'sport' 'politics' 'business'\n",
      " 'entertainment' 'politics' 'business' 'business' 'business' 'tech' 'tech'\n",
      " 'tech' 'entertainment' 'tech' 'politics' 'business' 'politics' 'sport'\n",
      " 'politics' 'business' 'politics' 'business' 'business' 'entertainment'\n",
      " 'politics' 'sport' 'tech' 'entertainment' 'business' 'entertainment'\n",
      " 'tech' 'politics' 'sport' 'sport' 'entertainment' 'sport' 'sport'\n",
      " 'politics' 'sport' 'entertainment' 'politics' 'business' 'business'\n",
      " 'sport' 'sport' 'business' 'tech' 'entertainment' 'sport' 'politics'\n",
      " 'entertainment' 'business' 'sport' 'entertainment' 'sport' 'sport'\n",
      " 'politics' 'business' 'tech' 'business' 'business' 'sport' 'tech'\n",
      " 'business' 'entertainment' 'business' 'tech' 'business' 'sport' 'tech'\n",
      " 'sport' 'entertainment' 'tech' 'sport' 'business' 'politics' 'business'\n",
      " 'politics' 'politics' 'sport' 'entertainment' 'entertainment' 'business'\n",
      " 'sport' 'sport' 'politics' 'tech' 'sport' 'tech' 'tech' 'sport'\n",
      " 'politics' 'sport' 'sport' 'business' 'sport' 'business' 'business'\n",
      " 'tech' 'sport' 'tech' 'politics' 'sport' 'politics' 'entertainment'\n",
      " 'sport' 'business' 'business' 'business' 'tech' 'business' 'sport'\n",
      " 'sport' 'business' 'entertainment' 'business' 'politics' 'sport'\n",
      " 'business' 'entertainment' 'sport' 'politics' 'tech' 'business'\n",
      " 'business' 'tech' 'entertainment' 'sport' 'sport' 'business' 'business'\n",
      " 'sport' 'sport' 'business' 'business' 'sport' 'sport' 'business'\n",
      " 'business' 'politics' 'business' 'politics' 'sport' 'sport' 'business'\n",
      " 'entertainment' 'politics' 'tech' 'tech' 'sport' 'business' 'sport'\n",
      " 'sport' 'business' 'sport' 'business' 'entertainment' 'sport' 'sport'\n",
      " 'sport' 'politics' 'business' 'tech' 'sport' 'politics' 'sport' 'sport'\n",
      " 'tech' 'entertainment' 'business' 'sport' 'entertainment' 'business'\n",
      " 'tech' 'entertainment' 'entertainment' 'sport' 'entertainment' 'tech'\n",
      " 'sport' 'business' 'sport' 'politics' 'sport' 'entertainment' 'sport'\n",
      " 'business' 'business' 'entertainment' 'entertainment' 'business' 'tech'\n",
      " 'politics' 'tech' 'business' 'politics' 'entertainment' 'sport'\n",
      " 'business' 'politics' 'sport' 'sport' 'politics' 'entertainment'\n",
      " 'entertainment' 'entertainment' 'entertainment' 'tech' 'tech' 'business'\n",
      " 'business' 'entertainment' 'tech' 'sport' 'tech' 'business' 'sport'\n",
      " 'tech' 'sport' 'tech' 'politics' 'tech' 'business' 'business' 'politics']\n"
     ]
    }
   ],
   "source": [
    "predictions3 = pipeline3.predict(msg_test)\n",
    "print(predictions3)"
   ]
  },
  {
   "cell_type": "code",
   "execution_count": 72,
   "id": "a230d4ad",
   "metadata": {},
   "outputs": [
    {
     "name": "stdout",
     "output_type": "stream",
     "text": [
      "Accuracy: 0.9730337078651685\n"
     ]
    }
   ],
   "source": [
    "print(\"Accuracy:\",metrics.accuracy_score(predictions3,label_test))"
   ]
  },
  {
   "cell_type": "code",
   "execution_count": 73,
   "id": "22deb37a",
   "metadata": {},
   "outputs": [
    {
     "name": "stdout",
     "output_type": "stream",
     "text": [
      "               precision    recall  f1-score   support\n",
      "\n",
      "     business       0.99      0.95      0.97        95\n",
      "entertainment       0.93      0.99      0.96        67\n",
      "     politics       0.97      0.98      0.97        86\n",
      "        sport       1.00      0.99      1.00       121\n",
      "         tech       0.96      0.96      0.96        76\n",
      "\n",
      "     accuracy                           0.97       445\n",
      "    macro avg       0.97      0.97      0.97       445\n",
      " weighted avg       0.97      0.97      0.97       445\n",
      "\n"
     ]
    }
   ],
   "source": [
    "#Classification Report \n",
    "print(classification_report(predictions3, label_test))"
   ]
  },
  {
   "cell_type": "code",
   "execution_count": 74,
   "id": "91d8998f",
   "metadata": {},
   "outputs": [
    {
     "data": {
      "text/plain": [
       "Text(0.5, 427.9555555555555, 'Predicted label')"
      ]
     },
     "execution_count": 74,
     "metadata": {},
     "output_type": "execute_result"
    },
    {
     "data": {
      "image/png": "[encoded data removed]",
      "text/plain": [
       "<Figure size 640x480 with 2 Axes>"
      ]
     },
     "metadata": {},
     "output_type": "display_data"
    }
   ],
   "source": [
    "# Confusion Matrix\n",
    "cm = confusion_matrix(label_test,predictions3)\n",
    "class_names=[0,1] # name  of classes\n",
    "fig, ax = plt.subplots()\n",
    "tick_marks = np.arange(len(class_names))\n",
    "plt.xticks(tick_marks, class_names)\n",
    "plt.yticks(tick_marks, class_names)\n",
    "\n",
    "# create heatmap\n",
    "sns.heatmap(pd.DataFrame(cm), annot=True, cmap=\"BuPu\" ,fmt='g')\n",
    "ax.xaxis.set_label_position(\"top\")\n",
    "plt.tight_layout()\n",
    "plt.title('Confusion matrix', y=1.1)\n",
    "plt.ylabel('Actual label')\n",
    "plt.xlabel('Predicted label')"
   ]
  },
  {
   "cell_type": "code",
   "execution_count": 75,
   "id": "21f97f08",
   "metadata": {},
   "outputs": [
    {
     "data": {
      "text/plain": [
       "{'business', 'entertainment', 'politics', 'sport', 'tech'}"
      ]
     },
     "execution_count": 75,
     "metadata": {},
     "output_type": "execute_result"
    }
   ],
   "source": [
    "set(df['category'])"
   ]
  },
  {
   "cell_type": "code",
   "execution_count": null,
   "id": "2e427130",
   "metadata": {},
   "outputs": [],
   "source": []
  }
 ],
 "metadata": {
  "kernelspec": {
   "display_name": "Python 3 (ipykernel)",
   "language": "python",
   "name": "python3"
  },
  "language_info": {
   "codemirror_mode": {
    "name": "ipython",
    "version": 3
   },
   "file_extension": ".py",
   "mimetype": "text/x-python",
   "name": "python",
   "nbconvert_exporter": "python",
   "pygments_lexer": "ipython3",
   "version": "3.10.9"
  }
 },
 "nbformat": 4,
 "nbformat_minor": 5
}
